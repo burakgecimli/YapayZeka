{
 "cells": [
  {
   "cell_type": "code",
   "execution_count": 1,
   "id": "d9d81847",
   "metadata": {
    "ExecuteTime": {
     "end_time": "2023-10-22T19:05:06.608830700Z",
     "start_time": "2023-10-22T19:05:06.205216Z"
    },
    "execution": {
     "iopub.execute_input": "2023-12-17T20:17:56.303176Z",
     "iopub.status.busy": "2023-12-17T20:17:56.302717Z",
     "iopub.status.idle": "2023-12-17T20:17:58.895851Z",
     "shell.execute_reply": "2023-12-17T20:17:58.894547Z"
    },
    "papermill": {
     "duration": 2.621377,
     "end_time": "2023-12-17T20:17:58.899080",
     "exception": false,
     "start_time": "2023-12-17T20:17:56.277703",
     "status": "completed"
    },
    "tags": []
   },
   "outputs": [],
   "source": [
    "import numpy as np\n",
    "import pandas as pd\n",
    "import seaborn as sns\n",
    "import matplotlib.pyplot as plt\n",
    "from sklearn.preprocessing import LabelEncoder\n",
    "from sklearn.model_selection import train_test_split\n",
    "from sklearn.preprocessing import StandardScaler\n",
    "from sklearn.decomposition import PCA\n",
    "from sklearn.neighbors import KNeighborsClassifier\n",
    "from sklearn.naive_bayes import GaussianNB\n",
    "from sklearn.linear_model import LogisticRegression\n",
    "from sklearn.svm import SVC\n",
    "from sklearn.ensemble import RandomForestClassifier\n",
    "from sklearn.tree import DecisionTreeClassifier\n",
    "from sklearn.metrics import confusion_matrix\n",
    "from sklearn.metrics import accuracy_score"
   ]
  },
  {
   "cell_type": "code",
   "execution_count": 2,
   "id": "7977afcb",
   "metadata": {
    "ExecuteTime": {
     "end_time": "2023-10-22T19:05:09.412806300Z",
     "start_time": "2023-10-22T19:05:06.608830700Z"
    },
    "execution": {
     "iopub.execute_input": "2023-12-17T20:17:58.946240Z",
     "iopub.status.busy": "2023-12-17T20:17:58.945652Z",
     "iopub.status.idle": "2023-12-17T20:18:00.743931Z",
     "shell.execute_reply": "2023-12-17T20:18:00.742754Z"
    },
    "papermill": {
     "duration": 1.824965,
     "end_time": "2023-12-17T20:18:00.746889",
     "exception": false,
     "start_time": "2023-12-17T20:17:58.921924",
     "status": "completed"
    },
    "scrolled": true,
    "tags": []
   },
   "outputs": [],
   "source": [
    "data = pd.read_excel('fıstık.xlsx')"
   ]
  },
  {
   "cell_type": "code",
   "execution_count": 3,
   "id": "28ab52a7",
   "metadata": {
    "ExecuteTime": {
     "end_time": "2023-10-22T19:05:09.472348200Z",
     "start_time": "2023-10-22T19:05:09.418816500Z"
    },
    "execution": {
     "iopub.execute_input": "2023-12-17T20:18:00.794467Z",
     "iopub.status.busy": "2023-12-17T20:18:00.793897Z",
     "iopub.status.idle": "2023-12-17T20:18:00.852023Z",
     "shell.execute_reply": "2023-12-17T20:18:00.850694Z"
    },
    "papermill": {
     "duration": 0.085503,
     "end_time": "2023-12-17T20:18:00.854852",
     "exception": false,
     "start_time": "2023-12-17T20:18:00.769349",
     "status": "completed"
    },
    "tags": []
   },
   "outputs": [
    {
     "data": {
      "text/html": [
       "<div>\n",
       "<style scoped>\n",
       "    .dataframe tbody tr th:only-of-type {\n",
       "        vertical-align: middle;\n",
       "    }\n",
       "\n",
       "    .dataframe tbody tr th {\n",
       "        vertical-align: top;\n",
       "    }\n",
       "\n",
       "    .dataframe thead th {\n",
       "        text-align: right;\n",
       "    }\n",
       "</style>\n",
       "<table border=\"1\" class=\"dataframe\">\n",
       "  <thead>\n",
       "    <tr style=\"text-align: right;\">\n",
       "      <th></th>\n",
       "      <th>Area</th>\n",
       "      <th>Perimeter</th>\n",
       "      <th>Major_Axis</th>\n",
       "      <th>Minor_Axis</th>\n",
       "      <th>Eccentricity</th>\n",
       "      <th>Eqdiasq</th>\n",
       "      <th>Solidity</th>\n",
       "      <th>Convex_Area</th>\n",
       "      <th>Extent</th>\n",
       "      <th>Aspect_Ratio</th>\n",
       "      <th>...</th>\n",
       "      <th>StdDev_RR</th>\n",
       "      <th>StdDev_RG</th>\n",
       "      <th>StdDev_RB</th>\n",
       "      <th>Skew_RR</th>\n",
       "      <th>Skew_RG</th>\n",
       "      <th>Skew_RB</th>\n",
       "      <th>Kurtosis_RR</th>\n",
       "      <th>Kurtosis_RG</th>\n",
       "      <th>Kurtosis_RB</th>\n",
       "      <th>Class</th>\n",
       "    </tr>\n",
       "  </thead>\n",
       "  <tbody>\n",
       "    <tr>\n",
       "      <th>0</th>\n",
       "      <td>63391</td>\n",
       "      <td>1568.4050</td>\n",
       "      <td>390.3396</td>\n",
       "      <td>236.7461</td>\n",
       "      <td>0.7951</td>\n",
       "      <td>284.0984</td>\n",
       "      <td>0.8665</td>\n",
       "      <td>73160</td>\n",
       "      <td>0.6394</td>\n",
       "      <td>1.6488</td>\n",
       "      <td>...</td>\n",
       "      <td>17.7206</td>\n",
       "      <td>19.6024</td>\n",
       "      <td>21.1342</td>\n",
       "      <td>0.4581</td>\n",
       "      <td>0.6635</td>\n",
       "      <td>0.7591</td>\n",
       "      <td>2.9692</td>\n",
       "      <td>3.0576</td>\n",
       "      <td>2.9542</td>\n",
       "      <td>Kirmizi_Pistachio</td>\n",
       "    </tr>\n",
       "    <tr>\n",
       "      <th>1</th>\n",
       "      <td>68358</td>\n",
       "      <td>1942.1870</td>\n",
       "      <td>410.8594</td>\n",
       "      <td>234.7525</td>\n",
       "      <td>0.8207</td>\n",
       "      <td>295.0188</td>\n",
       "      <td>0.8765</td>\n",
       "      <td>77991</td>\n",
       "      <td>0.6772</td>\n",
       "      <td>1.7502</td>\n",
       "      <td>...</td>\n",
       "      <td>26.7061</td>\n",
       "      <td>27.2112</td>\n",
       "      <td>25.1035</td>\n",
       "      <td>-0.3847</td>\n",
       "      <td>-0.2713</td>\n",
       "      <td>-0.2927</td>\n",
       "      <td>1.9807</td>\n",
       "      <td>2.1006</td>\n",
       "      <td>2.2152</td>\n",
       "      <td>Kirmizi_Pistachio</td>\n",
       "    </tr>\n",
       "    <tr>\n",
       "      <th>2</th>\n",
       "      <td>73589</td>\n",
       "      <td>1246.5380</td>\n",
       "      <td>452.3630</td>\n",
       "      <td>220.5547</td>\n",
       "      <td>0.8731</td>\n",
       "      <td>306.0987</td>\n",
       "      <td>0.9172</td>\n",
       "      <td>80234</td>\n",
       "      <td>0.7127</td>\n",
       "      <td>2.0510</td>\n",
       "      <td>...</td>\n",
       "      <td>19.0129</td>\n",
       "      <td>20.0703</td>\n",
       "      <td>20.7006</td>\n",
       "      <td>-0.6014</td>\n",
       "      <td>-0.4500</td>\n",
       "      <td>0.2998</td>\n",
       "      <td>3.5420</td>\n",
       "      <td>3.6856</td>\n",
       "      <td>4.1012</td>\n",
       "      <td>Kirmizi_Pistachio</td>\n",
       "    </tr>\n",
       "    <tr>\n",
       "      <th>3</th>\n",
       "      <td>71106</td>\n",
       "      <td>1445.2610</td>\n",
       "      <td>429.5291</td>\n",
       "      <td>216.0765</td>\n",
       "      <td>0.8643</td>\n",
       "      <td>300.8903</td>\n",
       "      <td>0.9589</td>\n",
       "      <td>74153</td>\n",
       "      <td>0.7028</td>\n",
       "      <td>1.9879</td>\n",
       "      <td>...</td>\n",
       "      <td>18.1773</td>\n",
       "      <td>18.7152</td>\n",
       "      <td>29.7883</td>\n",
       "      <td>-0.6943</td>\n",
       "      <td>-0.6278</td>\n",
       "      <td>-0.7798</td>\n",
       "      <td>2.8776</td>\n",
       "      <td>2.8748</td>\n",
       "      <td>2.8953</td>\n",
       "      <td>Kirmizi_Pistachio</td>\n",
       "    </tr>\n",
       "    <tr>\n",
       "      <th>4</th>\n",
       "      <td>80087</td>\n",
       "      <td>1251.5240</td>\n",
       "      <td>469.3783</td>\n",
       "      <td>220.9344</td>\n",
       "      <td>0.8823</td>\n",
       "      <td>319.3273</td>\n",
       "      <td>0.9657</td>\n",
       "      <td>82929</td>\n",
       "      <td>0.7459</td>\n",
       "      <td>2.1245</td>\n",
       "      <td>...</td>\n",
       "      <td>23.4298</td>\n",
       "      <td>24.0878</td>\n",
       "      <td>23.1157</td>\n",
       "      <td>-0.9287</td>\n",
       "      <td>-0.8134</td>\n",
       "      <td>-0.4970</td>\n",
       "      <td>2.9915</td>\n",
       "      <td>2.8813</td>\n",
       "      <td>2.7362</td>\n",
       "      <td>Kirmizi_Pistachio</td>\n",
       "    </tr>\n",
       "    <tr>\n",
       "      <th>...</th>\n",
       "      <td>...</td>\n",
       "      <td>...</td>\n",
       "      <td>...</td>\n",
       "      <td>...</td>\n",
       "      <td>...</td>\n",
       "      <td>...</td>\n",
       "      <td>...</td>\n",
       "      <td>...</td>\n",
       "      <td>...</td>\n",
       "      <td>...</td>\n",
       "      <td>...</td>\n",
       "      <td>...</td>\n",
       "      <td>...</td>\n",
       "      <td>...</td>\n",
       "      <td>...</td>\n",
       "      <td>...</td>\n",
       "      <td>...</td>\n",
       "      <td>...</td>\n",
       "      <td>...</td>\n",
       "      <td>...</td>\n",
       "      <td>...</td>\n",
       "    </tr>\n",
       "    <tr>\n",
       "      <th>2143</th>\n",
       "      <td>85983</td>\n",
       "      <td>1157.1160</td>\n",
       "      <td>444.3447</td>\n",
       "      <td>248.8627</td>\n",
       "      <td>0.8284</td>\n",
       "      <td>330.8730</td>\n",
       "      <td>0.9823</td>\n",
       "      <td>87536</td>\n",
       "      <td>0.6799</td>\n",
       "      <td>1.7855</td>\n",
       "      <td>...</td>\n",
       "      <td>20.8474</td>\n",
       "      <td>20.8118</td>\n",
       "      <td>21.1175</td>\n",
       "      <td>-0.6994</td>\n",
       "      <td>-0.7071</td>\n",
       "      <td>-0.6963</td>\n",
       "      <td>2.8853</td>\n",
       "      <td>2.6599</td>\n",
       "      <td>2.6317</td>\n",
       "      <td>Siirt_Pistachio</td>\n",
       "    </tr>\n",
       "    <tr>\n",
       "      <th>2144</th>\n",
       "      <td>85691</td>\n",
       "      <td>2327.3459</td>\n",
       "      <td>439.8794</td>\n",
       "      <td>278.9297</td>\n",
       "      <td>0.7732</td>\n",
       "      <td>330.3107</td>\n",
       "      <td>0.8886</td>\n",
       "      <td>96439</td>\n",
       "      <td>0.6590</td>\n",
       "      <td>1.5770</td>\n",
       "      <td>...</td>\n",
       "      <td>21.2621</td>\n",
       "      <td>22.5004</td>\n",
       "      <td>21.5821</td>\n",
       "      <td>-0.5567</td>\n",
       "      <td>-0.4968</td>\n",
       "      <td>-0.6597</td>\n",
       "      <td>2.3022</td>\n",
       "      <td>2.2664</td>\n",
       "      <td>2.5161</td>\n",
       "      <td>Siirt_Pistachio</td>\n",
       "    </tr>\n",
       "    <tr>\n",
       "      <th>2145</th>\n",
       "      <td>101136</td>\n",
       "      <td>1255.6190</td>\n",
       "      <td>475.2161</td>\n",
       "      <td>271.3299</td>\n",
       "      <td>0.8210</td>\n",
       "      <td>358.8459</td>\n",
       "      <td>0.9888</td>\n",
       "      <td>102286</td>\n",
       "      <td>0.7584</td>\n",
       "      <td>1.7514</td>\n",
       "      <td>...</td>\n",
       "      <td>21.1262</td>\n",
       "      <td>20.0279</td>\n",
       "      <td>17.4401</td>\n",
       "      <td>-0.9072</td>\n",
       "      <td>-0.8790</td>\n",
       "      <td>-0.4470</td>\n",
       "      <td>3.3112</td>\n",
       "      <td>3.4306</td>\n",
       "      <td>3.0697</td>\n",
       "      <td>Siirt_Pistachio</td>\n",
       "    </tr>\n",
       "    <tr>\n",
       "      <th>2146</th>\n",
       "      <td>97409</td>\n",
       "      <td>1195.2150</td>\n",
       "      <td>452.1823</td>\n",
       "      <td>274.5764</td>\n",
       "      <td>0.7945</td>\n",
       "      <td>352.1718</td>\n",
       "      <td>0.9902</td>\n",
       "      <td>98376</td>\n",
       "      <td>0.7635</td>\n",
       "      <td>1.6468</td>\n",
       "      <td>...</td>\n",
       "      <td>19.3274</td>\n",
       "      <td>19.1782</td>\n",
       "      <td>19.8930</td>\n",
       "      <td>-0.9473</td>\n",
       "      <td>-0.8404</td>\n",
       "      <td>-0.3153</td>\n",
       "      <td>3.4237</td>\n",
       "      <td>2.9606</td>\n",
       "      <td>3.0033</td>\n",
       "      <td>Siirt_Pistachio</td>\n",
       "    </tr>\n",
       "    <tr>\n",
       "      <th>2147</th>\n",
       "      <td>78466</td>\n",
       "      <td>2356.9080</td>\n",
       "      <td>445.9131</td>\n",
       "      <td>258.5125</td>\n",
       "      <td>0.8148</td>\n",
       "      <td>316.0791</td>\n",
       "      <td>0.8662</td>\n",
       "      <td>90591</td>\n",
       "      <td>0.6123</td>\n",
       "      <td>1.7249</td>\n",
       "      <td>...</td>\n",
       "      <td>24.5451</td>\n",
       "      <td>25.9279</td>\n",
       "      <td>24.4214</td>\n",
       "      <td>-0.7993</td>\n",
       "      <td>-0.5962</td>\n",
       "      <td>-0.3492</td>\n",
       "      <td>2.5278</td>\n",
       "      <td>2.2248</td>\n",
       "      <td>2.4480</td>\n",
       "      <td>Siirt_Pistachio</td>\n",
       "    </tr>\n",
       "  </tbody>\n",
       "</table>\n",
       "<p>2148 rows × 29 columns</p>\n",
       "</div>"
      ],
      "text/plain": [
       "        Area  Perimeter  Major_Axis  Minor_Axis  Eccentricity   Eqdiasq  \\\n",
       "0      63391  1568.4050    390.3396    236.7461        0.7951  284.0984   \n",
       "1      68358  1942.1870    410.8594    234.7525        0.8207  295.0188   \n",
       "2      73589  1246.5380    452.3630    220.5547        0.8731  306.0987   \n",
       "3      71106  1445.2610    429.5291    216.0765        0.8643  300.8903   \n",
       "4      80087  1251.5240    469.3783    220.9344        0.8823  319.3273   \n",
       "...      ...        ...         ...         ...           ...       ...   \n",
       "2143   85983  1157.1160    444.3447    248.8627        0.8284  330.8730   \n",
       "2144   85691  2327.3459    439.8794    278.9297        0.7732  330.3107   \n",
       "2145  101136  1255.6190    475.2161    271.3299        0.8210  358.8459   \n",
       "2146   97409  1195.2150    452.1823    274.5764        0.7945  352.1718   \n",
       "2147   78466  2356.9080    445.9131    258.5125        0.8148  316.0791   \n",
       "\n",
       "      Solidity  Convex_Area  Extent  Aspect_Ratio  ...  StdDev_RR  StdDev_RG  \\\n",
       "0       0.8665        73160  0.6394        1.6488  ...    17.7206    19.6024   \n",
       "1       0.8765        77991  0.6772        1.7502  ...    26.7061    27.2112   \n",
       "2       0.9172        80234  0.7127        2.0510  ...    19.0129    20.0703   \n",
       "3       0.9589        74153  0.7028        1.9879  ...    18.1773    18.7152   \n",
       "4       0.9657        82929  0.7459        2.1245  ...    23.4298    24.0878   \n",
       "...        ...          ...     ...           ...  ...        ...        ...   \n",
       "2143    0.9823        87536  0.6799        1.7855  ...    20.8474    20.8118   \n",
       "2144    0.8886        96439  0.6590        1.5770  ...    21.2621    22.5004   \n",
       "2145    0.9888       102286  0.7584        1.7514  ...    21.1262    20.0279   \n",
       "2146    0.9902        98376  0.7635        1.6468  ...    19.3274    19.1782   \n",
       "2147    0.8662        90591  0.6123        1.7249  ...    24.5451    25.9279   \n",
       "\n",
       "      StdDev_RB  Skew_RR  Skew_RG  Skew_RB  Kurtosis_RR  Kurtosis_RG  \\\n",
       "0       21.1342   0.4581   0.6635   0.7591       2.9692       3.0576   \n",
       "1       25.1035  -0.3847  -0.2713  -0.2927       1.9807       2.1006   \n",
       "2       20.7006  -0.6014  -0.4500   0.2998       3.5420       3.6856   \n",
       "3       29.7883  -0.6943  -0.6278  -0.7798       2.8776       2.8748   \n",
       "4       23.1157  -0.9287  -0.8134  -0.4970       2.9915       2.8813   \n",
       "...         ...      ...      ...      ...          ...          ...   \n",
       "2143    21.1175  -0.6994  -0.7071  -0.6963       2.8853       2.6599   \n",
       "2144    21.5821  -0.5567  -0.4968  -0.6597       2.3022       2.2664   \n",
       "2145    17.4401  -0.9072  -0.8790  -0.4470       3.3112       3.4306   \n",
       "2146    19.8930  -0.9473  -0.8404  -0.3153       3.4237       2.9606   \n",
       "2147    24.4214  -0.7993  -0.5962  -0.3492       2.5278       2.2248   \n",
       "\n",
       "      Kurtosis_RB              Class  \n",
       "0          2.9542  Kirmizi_Pistachio  \n",
       "1          2.2152  Kirmizi_Pistachio  \n",
       "2          4.1012  Kirmizi_Pistachio  \n",
       "3          2.8953  Kirmizi_Pistachio  \n",
       "4          2.7362  Kirmizi_Pistachio  \n",
       "...           ...                ...  \n",
       "2143       2.6317    Siirt_Pistachio  \n",
       "2144       2.5161    Siirt_Pistachio  \n",
       "2145       3.0697    Siirt_Pistachio  \n",
       "2146       3.0033    Siirt_Pistachio  \n",
       "2147       2.4480    Siirt_Pistachio  \n",
       "\n",
       "[2148 rows x 29 columns]"
      ]
     },
     "execution_count": 3,
     "metadata": {},
     "output_type": "execute_result"
    }
   ],
   "source": [
    "data"
   ]
  },
  {
   "cell_type": "code",
   "execution_count": 4,
   "id": "8d8ea35f",
   "metadata": {
    "ExecuteTime": {
     "end_time": "2023-10-22T19:05:09.474356Z",
     "start_time": "2023-10-22T19:05:09.444759200Z"
    },
    "execution": {
     "iopub.execute_input": "2023-12-17T20:18:00.902218Z",
     "iopub.status.busy": "2023-12-17T20:18:00.901807Z",
     "iopub.status.idle": "2023-12-17T20:18:00.932559Z",
     "shell.execute_reply": "2023-12-17T20:18:00.931738Z"
    },
    "papermill": {
     "duration": 0.057536,
     "end_time": "2023-12-17T20:18:00.935116",
     "exception": false,
     "start_time": "2023-12-17T20:18:00.877580",
     "status": "completed"
    },
    "tags": []
   },
   "outputs": [
    {
     "data": {
      "text/html": [
       "<div>\n",
       "<style scoped>\n",
       "    .dataframe tbody tr th:only-of-type {\n",
       "        vertical-align: middle;\n",
       "    }\n",
       "\n",
       "    .dataframe tbody tr th {\n",
       "        vertical-align: top;\n",
       "    }\n",
       "\n",
       "    .dataframe thead th {\n",
       "        text-align: right;\n",
       "    }\n",
       "</style>\n",
       "<table border=\"1\" class=\"dataframe\">\n",
       "  <thead>\n",
       "    <tr style=\"text-align: right;\">\n",
       "      <th></th>\n",
       "      <th>Area</th>\n",
       "      <th>Perimeter</th>\n",
       "      <th>Major_Axis</th>\n",
       "      <th>Minor_Axis</th>\n",
       "      <th>Eccentricity</th>\n",
       "      <th>Eqdiasq</th>\n",
       "      <th>Solidity</th>\n",
       "      <th>Convex_Area</th>\n",
       "      <th>Extent</th>\n",
       "      <th>Aspect_Ratio</th>\n",
       "      <th>...</th>\n",
       "      <th>StdDev_RR</th>\n",
       "      <th>StdDev_RG</th>\n",
       "      <th>StdDev_RB</th>\n",
       "      <th>Skew_RR</th>\n",
       "      <th>Skew_RG</th>\n",
       "      <th>Skew_RB</th>\n",
       "      <th>Kurtosis_RR</th>\n",
       "      <th>Kurtosis_RG</th>\n",
       "      <th>Kurtosis_RB</th>\n",
       "      <th>Class</th>\n",
       "    </tr>\n",
       "  </thead>\n",
       "  <tbody>\n",
       "    <tr>\n",
       "      <th>943</th>\n",
       "      <td>41636</td>\n",
       "      <td>967.3920</td>\n",
       "      <td>367.0294</td>\n",
       "      <td>155.3820</td>\n",
       "      <td>0.9060</td>\n",
       "      <td>230.2447</td>\n",
       "      <td>0.9023</td>\n",
       "      <td>46144</td>\n",
       "      <td>0.6322</td>\n",
       "      <td>2.3621</td>\n",
       "      <td>...</td>\n",
       "      <td>20.7202</td>\n",
       "      <td>21.8764</td>\n",
       "      <td>21.5736</td>\n",
       "      <td>-0.4042</td>\n",
       "      <td>-0.1402</td>\n",
       "      <td>-0.1588</td>\n",
       "      <td>2.8642</td>\n",
       "      <td>2.7678</td>\n",
       "      <td>2.8697</td>\n",
       "      <td>Kirmizi_Pistachio</td>\n",
       "    </tr>\n",
       "    <tr>\n",
       "      <th>1672</th>\n",
       "      <td>88835</td>\n",
       "      <td>2115.2261</td>\n",
       "      <td>456.2918</td>\n",
       "      <td>254.1708</td>\n",
       "      <td>0.8305</td>\n",
       "      <td>336.3157</td>\n",
       "      <td>0.9458</td>\n",
       "      <td>93926</td>\n",
       "      <td>0.6745</td>\n",
       "      <td>1.7952</td>\n",
       "      <td>...</td>\n",
       "      <td>16.4267</td>\n",
       "      <td>16.2529</td>\n",
       "      <td>11.1971</td>\n",
       "      <td>-1.2250</td>\n",
       "      <td>-1.2235</td>\n",
       "      <td>-0.5414</td>\n",
       "      <td>3.8232</td>\n",
       "      <td>4.0296</td>\n",
       "      <td>4.7000</td>\n",
       "      <td>Siirt_Pistachio</td>\n",
       "    </tr>\n",
       "    <tr>\n",
       "      <th>1657</th>\n",
       "      <td>84000</td>\n",
       "      <td>1195.9420</td>\n",
       "      <td>442.6494</td>\n",
       "      <td>245.3055</td>\n",
       "      <td>0.8324</td>\n",
       "      <td>327.0353</td>\n",
       "      <td>0.9701</td>\n",
       "      <td>86587</td>\n",
       "      <td>0.7237</td>\n",
       "      <td>1.8045</td>\n",
       "      <td>...</td>\n",
       "      <td>17.5064</td>\n",
       "      <td>17.9853</td>\n",
       "      <td>19.9515</td>\n",
       "      <td>-0.7886</td>\n",
       "      <td>-0.4851</td>\n",
       "      <td>0.2832</td>\n",
       "      <td>3.2592</td>\n",
       "      <td>2.9349</td>\n",
       "      <td>3.9336</td>\n",
       "      <td>Siirt_Pistachio</td>\n",
       "    </tr>\n",
       "    <tr>\n",
       "      <th>1840</th>\n",
       "      <td>81048</td>\n",
       "      <td>1403.7860</td>\n",
       "      <td>484.8200</td>\n",
       "      <td>217.1142</td>\n",
       "      <td>0.8941</td>\n",
       "      <td>321.2375</td>\n",
       "      <td>0.9582</td>\n",
       "      <td>84587</td>\n",
       "      <td>0.7261</td>\n",
       "      <td>2.2330</td>\n",
       "      <td>...</td>\n",
       "      <td>24.4404</td>\n",
       "      <td>26.9185</td>\n",
       "      <td>26.9236</td>\n",
       "      <td>-0.4446</td>\n",
       "      <td>-0.3877</td>\n",
       "      <td>-0.0236</td>\n",
       "      <td>2.0259</td>\n",
       "      <td>2.0042</td>\n",
       "      <td>1.8590</td>\n",
       "      <td>Siirt_Pistachio</td>\n",
       "    </tr>\n",
       "    <tr>\n",
       "      <th>1751</th>\n",
       "      <td>97758</td>\n",
       "      <td>1320.0560</td>\n",
       "      <td>473.6430</td>\n",
       "      <td>269.8113</td>\n",
       "      <td>0.8219</td>\n",
       "      <td>352.8022</td>\n",
       "      <td>0.9513</td>\n",
       "      <td>102764</td>\n",
       "      <td>0.7700</td>\n",
       "      <td>1.7555</td>\n",
       "      <td>...</td>\n",
       "      <td>24.8473</td>\n",
       "      <td>26.4177</td>\n",
       "      <td>23.6857</td>\n",
       "      <td>-1.2336</td>\n",
       "      <td>-1.0371</td>\n",
       "      <td>-0.8430</td>\n",
       "      <td>3.5226</td>\n",
       "      <td>3.0289</td>\n",
       "      <td>2.8696</td>\n",
       "      <td>Siirt_Pistachio</td>\n",
       "    </tr>\n",
       "  </tbody>\n",
       "</table>\n",
       "<p>5 rows × 29 columns</p>\n",
       "</div>"
      ],
      "text/plain": [
       "       Area  Perimeter  Major_Axis  Minor_Axis  Eccentricity   Eqdiasq  \\\n",
       "943   41636   967.3920    367.0294    155.3820        0.9060  230.2447   \n",
       "1672  88835  2115.2261    456.2918    254.1708        0.8305  336.3157   \n",
       "1657  84000  1195.9420    442.6494    245.3055        0.8324  327.0353   \n",
       "1840  81048  1403.7860    484.8200    217.1142        0.8941  321.2375   \n",
       "1751  97758  1320.0560    473.6430    269.8113        0.8219  352.8022   \n",
       "\n",
       "      Solidity  Convex_Area  Extent  Aspect_Ratio  ...  StdDev_RR  StdDev_RG  \\\n",
       "943     0.9023        46144  0.6322        2.3621  ...    20.7202    21.8764   \n",
       "1672    0.9458        93926  0.6745        1.7952  ...    16.4267    16.2529   \n",
       "1657    0.9701        86587  0.7237        1.8045  ...    17.5064    17.9853   \n",
       "1840    0.9582        84587  0.7261        2.2330  ...    24.4404    26.9185   \n",
       "1751    0.9513       102764  0.7700        1.7555  ...    24.8473    26.4177   \n",
       "\n",
       "      StdDev_RB  Skew_RR  Skew_RG  Skew_RB  Kurtosis_RR  Kurtosis_RG  \\\n",
       "943     21.5736  -0.4042  -0.1402  -0.1588       2.8642       2.7678   \n",
       "1672    11.1971  -1.2250  -1.2235  -0.5414       3.8232       4.0296   \n",
       "1657    19.9515  -0.7886  -0.4851   0.2832       3.2592       2.9349   \n",
       "1840    26.9236  -0.4446  -0.3877  -0.0236       2.0259       2.0042   \n",
       "1751    23.6857  -1.2336  -1.0371  -0.8430       3.5226       3.0289   \n",
       "\n",
       "      Kurtosis_RB              Class  \n",
       "943        2.8697  Kirmizi_Pistachio  \n",
       "1672       4.7000    Siirt_Pistachio  \n",
       "1657       3.9336    Siirt_Pistachio  \n",
       "1840       1.8590    Siirt_Pistachio  \n",
       "1751       2.8696    Siirt_Pistachio  \n",
       "\n",
       "[5 rows x 29 columns]"
      ]
     },
     "execution_count": 4,
     "metadata": {},
     "output_type": "execute_result"
    }
   ],
   "source": [
    "data.sample(5)"
   ]
  },
  {
   "cell_type": "code",
   "execution_count": 5,
   "id": "bf9d9b10",
   "metadata": {
    "execution": {
     "iopub.execute_input": "2023-12-17T20:18:00.983435Z",
     "iopub.status.busy": "2023-12-17T20:18:00.983024Z",
     "iopub.status.idle": "2023-12-17T20:18:00.991883Z",
     "shell.execute_reply": "2023-12-17T20:18:00.990780Z"
    },
    "papermill": {
     "duration": 0.036095,
     "end_time": "2023-12-17T20:18:00.994303",
     "exception": false,
     "start_time": "2023-12-17T20:18:00.958208",
     "status": "completed"
    },
    "tags": []
   },
   "outputs": [
    {
     "data": {
      "text/plain": [
       "0       Kirmizi_Pistachio\n",
       "1       Kirmizi_Pistachio\n",
       "2       Kirmizi_Pistachio\n",
       "3       Kirmizi_Pistachio\n",
       "4       Kirmizi_Pistachio\n",
       "              ...        \n",
       "2143      Siirt_Pistachio\n",
       "2144      Siirt_Pistachio\n",
       "2145      Siirt_Pistachio\n",
       "2146      Siirt_Pistachio\n",
       "2147      Siirt_Pistachio\n",
       "Name: Class, Length: 2148, dtype: object"
      ]
     },
     "execution_count": 5,
     "metadata": {},
     "output_type": "execute_result"
    }
   ],
   "source": [
    "data['Class']"
   ]
  },
  {
   "cell_type": "code",
   "execution_count": 6,
   "id": "a17881c7",
   "metadata": {
    "execution": {
     "iopub.execute_input": "2023-12-17T20:18:01.042558Z",
     "iopub.status.busy": "2023-12-17T20:18:01.042179Z",
     "iopub.status.idle": "2023-12-17T20:18:01.046506Z",
     "shell.execute_reply": "2023-12-17T20:18:01.045389Z"
    },
    "papermill": {
     "duration": 0.031168,
     "end_time": "2023-12-17T20:18:01.048685",
     "exception": false,
     "start_time": "2023-12-17T20:18:01.017517",
     "status": "completed"
    },
    "tags": []
   },
   "outputs": [],
   "source": [
    "#data.drop_duplicates()"
   ]
  },
  {
   "cell_type": "code",
   "execution_count": 7,
   "id": "59a6036f",
   "metadata": {
    "ExecuteTime": {
     "end_time": "2023-10-22T19:05:09.477355Z",
     "start_time": "2023-10-22T19:05:09.462590900Z"
    },
    "execution": {
     "iopub.execute_input": "2023-12-17T20:18:01.097393Z",
     "iopub.status.busy": "2023-12-17T20:18:01.096611Z",
     "iopub.status.idle": "2023-12-17T20:18:01.103749Z",
     "shell.execute_reply": "2023-12-17T20:18:01.102574Z"
    },
    "papermill": {
     "duration": 0.034195,
     "end_time": "2023-12-17T20:18:01.106114",
     "exception": false,
     "start_time": "2023-12-17T20:18:01.071919",
     "status": "completed"
    },
    "tags": []
   },
   "outputs": [
    {
     "data": {
      "text/plain": [
       "Index(['Area', 'Perimeter', 'Major_Axis', 'Minor_Axis', 'Eccentricity',\n",
       "       'Eqdiasq', 'Solidity', 'Convex_Area', 'Extent', 'Aspect_Ratio',\n",
       "       'Roundness', 'Compactness', 'Shapefactor_1', 'Shapefactor_2',\n",
       "       'Shapefactor_3', 'Shapefactor_4', 'Mean_RR', 'Mean_RG', 'Mean_RB',\n",
       "       'StdDev_RR', 'StdDev_RG', 'StdDev_RB', 'Skew_RR', 'Skew_RG', 'Skew_RB',\n",
       "       'Kurtosis_RR', 'Kurtosis_RG', 'Kurtosis_RB', 'Class'],\n",
       "      dtype='object')"
      ]
     },
     "execution_count": 7,
     "metadata": {},
     "output_type": "execute_result"
    }
   ],
   "source": [
    "data.columns"
   ]
  },
  {
   "cell_type": "code",
   "execution_count": 8,
   "id": "af48720b",
   "metadata": {
    "ExecuteTime": {
     "end_time": "2023-10-22T19:05:09.696048500Z",
     "start_time": "2023-10-22T19:05:09.532008200Z"
    },
    "execution": {
     "iopub.execute_input": "2023-12-17T20:18:01.154529Z",
     "iopub.status.busy": "2023-12-17T20:18:01.154064Z",
     "iopub.status.idle": "2023-12-17T20:18:01.182204Z",
     "shell.execute_reply": "2023-12-17T20:18:01.180372Z"
    },
    "papermill": {
     "duration": 0.055297,
     "end_time": "2023-12-17T20:18:01.184540",
     "exception": false,
     "start_time": "2023-12-17T20:18:01.129243",
     "status": "completed"
    },
    "tags": []
   },
   "outputs": [
    {
     "name": "stdout",
     "output_type": "stream",
     "text": [
      "<class 'pandas.core.frame.DataFrame'>\n",
      "RangeIndex: 2148 entries, 0 to 2147\n",
      "Data columns (total 29 columns):\n",
      " #   Column         Non-Null Count  Dtype  \n",
      "---  ------         --------------  -----  \n",
      " 0   Area           2148 non-null   int64  \n",
      " 1   Perimeter      2148 non-null   float64\n",
      " 2   Major_Axis     2148 non-null   float64\n",
      " 3   Minor_Axis     2148 non-null   float64\n",
      " 4   Eccentricity   2148 non-null   float64\n",
      " 5   Eqdiasq        2148 non-null   float64\n",
      " 6   Solidity       2148 non-null   float64\n",
      " 7   Convex_Area    2148 non-null   int64  \n",
      " 8   Extent         2148 non-null   float64\n",
      " 9   Aspect_Ratio   2148 non-null   float64\n",
      " 10  Roundness      2148 non-null   float64\n",
      " 11  Compactness    2148 non-null   float64\n",
      " 12  Shapefactor_1  2148 non-null   float64\n",
      " 13  Shapefactor_2  2148 non-null   float64\n",
      " 14  Shapefactor_3  2148 non-null   float64\n",
      " 15  Shapefactor_4  2148 non-null   float64\n",
      " 16  Mean_RR        2148 non-null   float64\n",
      " 17  Mean_RG        2148 non-null   float64\n",
      " 18  Mean_RB        2148 non-null   float64\n",
      " 19  StdDev_RR      2148 non-null   float64\n",
      " 20  StdDev_RG      2148 non-null   float64\n",
      " 21  StdDev_RB      2148 non-null   float64\n",
      " 22  Skew_RR        2148 non-null   float64\n",
      " 23  Skew_RG        2148 non-null   float64\n",
      " 24  Skew_RB        2148 non-null   float64\n",
      " 25  Kurtosis_RR    2148 non-null   float64\n",
      " 26  Kurtosis_RG    2148 non-null   float64\n",
      " 27  Kurtosis_RB    2148 non-null   float64\n",
      " 28  Class          2148 non-null   object \n",
      "dtypes: float64(26), int64(2), object(1)\n",
      "memory usage: 486.8+ KB\n"
     ]
    }
   ],
   "source": [
    "data.info()"
   ]
  },
  {
   "cell_type": "code",
   "execution_count": 9,
   "id": "a81345b8",
   "metadata": {
    "ExecuteTime": {
     "end_time": "2023-10-22T19:05:09.486516500Z",
     "start_time": "2023-10-22T19:05:09.472348200Z"
    },
    "execution": {
     "iopub.execute_input": "2023-12-17T20:18:01.311837Z",
     "iopub.status.busy": "2023-12-17T20:18:01.310790Z",
     "iopub.status.idle": "2023-12-17T20:18:01.317843Z",
     "shell.execute_reply": "2023-12-17T20:18:01.316819Z"
    },
    "papermill": {
     "duration": 0.042225,
     "end_time": "2023-12-17T20:18:01.319936",
     "exception": false,
     "start_time": "2023-12-17T20:18:01.277711",
     "status": "completed"
    },
    "scrolled": true,
    "tags": []
   },
   "outputs": [
    {
     "data": {
      "text/plain": [
       "(2148, 29)"
      ]
     },
     "execution_count": 9,
     "metadata": {},
     "output_type": "execute_result"
    }
   ],
   "source": [
    "data.shape"
   ]
  },
  {
   "cell_type": "code",
   "execution_count": 10,
   "id": "ea158b7e",
   "metadata": {
    "ExecuteTime": {
     "end_time": "2023-10-22T19:05:09.672064100Z",
     "start_time": "2023-10-22T19:05:09.482511200Z"
    },
    "execution": {
     "iopub.execute_input": "2023-12-17T20:18:01.370258Z",
     "iopub.status.busy": "2023-12-17T20:18:01.369456Z",
     "iopub.status.idle": "2023-12-17T20:18:01.588089Z",
     "shell.execute_reply": "2023-12-17T20:18:01.586751Z"
    },
    "papermill": {
     "duration": 0.24726,
     "end_time": "2023-12-17T20:18:01.590904",
     "exception": false,
     "start_time": "2023-12-17T20:18:01.343644",
     "status": "completed"
    },
    "tags": []
   },
   "outputs": [
    {
     "data": {
      "text/html": [
       "<div>\n",
       "<style scoped>\n",
       "    .dataframe tbody tr th:only-of-type {\n",
       "        vertical-align: middle;\n",
       "    }\n",
       "\n",
       "    .dataframe tbody tr th {\n",
       "        vertical-align: top;\n",
       "    }\n",
       "\n",
       "    .dataframe thead th {\n",
       "        text-align: right;\n",
       "    }\n",
       "</style>\n",
       "<table border=\"1\" class=\"dataframe\">\n",
       "  <thead>\n",
       "    <tr style=\"text-align: right;\">\n",
       "      <th></th>\n",
       "      <th>count</th>\n",
       "      <th>mean</th>\n",
       "      <th>std</th>\n",
       "      <th>min</th>\n",
       "      <th>25%</th>\n",
       "      <th>50%</th>\n",
       "      <th>75%</th>\n",
       "      <th>max</th>\n",
       "    </tr>\n",
       "  </thead>\n",
       "  <tbody>\n",
       "    <tr>\n",
       "      <th>Area</th>\n",
       "      <td>2148.0</td>\n",
       "      <td>79950.655493</td>\n",
       "      <td>13121.737799</td>\n",
       "      <td>29808.0000</td>\n",
       "      <td>71936.750000</td>\n",
       "      <td>79905.50000</td>\n",
       "      <td>89030.500000</td>\n",
       "      <td>124008.0000</td>\n",
       "    </tr>\n",
       "    <tr>\n",
       "      <th>Perimeter</th>\n",
       "      <td>2148.0</td>\n",
       "      <td>1425.971751</td>\n",
       "      <td>375.565503</td>\n",
       "      <td>858.3630</td>\n",
       "      <td>1170.996250</td>\n",
       "      <td>1262.78550</td>\n",
       "      <td>1607.906250</td>\n",
       "      <td>2755.0491</td>\n",
       "    </tr>\n",
       "    <tr>\n",
       "      <th>Major_Axis</th>\n",
       "      <td>2148.0</td>\n",
       "      <td>446.248968</td>\n",
       "      <td>32.445304</td>\n",
       "      <td>320.3445</td>\n",
       "      <td>426.508750</td>\n",
       "      <td>448.57475</td>\n",
       "      <td>468.509400</td>\n",
       "      <td>541.9661</td>\n",
       "    </tr>\n",
       "    <tr>\n",
       "      <th>Minor_Axis</th>\n",
       "      <td>2148.0</td>\n",
       "      <td>238.311842</td>\n",
       "      <td>30.310695</td>\n",
       "      <td>133.5096</td>\n",
       "      <td>217.875825</td>\n",
       "      <td>236.41635</td>\n",
       "      <td>257.760150</td>\n",
       "      <td>383.0461</td>\n",
       "    </tr>\n",
       "    <tr>\n",
       "      <th>Eccentricity</th>\n",
       "      <td>2148.0</td>\n",
       "      <td>0.840219</td>\n",
       "      <td>0.048759</td>\n",
       "      <td>0.5049</td>\n",
       "      <td>0.817500</td>\n",
       "      <td>0.84965</td>\n",
       "      <td>0.875200</td>\n",
       "      <td>0.9460</td>\n",
       "    </tr>\n",
       "    <tr>\n",
       "      <th>Eqdiasq</th>\n",
       "      <td>2148.0</td>\n",
       "      <td>317.919173</td>\n",
       "      <td>26.908600</td>\n",
       "      <td>194.8146</td>\n",
       "      <td>302.642850</td>\n",
       "      <td>318.96530</td>\n",
       "      <td>336.685525</td>\n",
       "      <td>397.3561</td>\n",
       "    </tr>\n",
       "    <tr>\n",
       "      <th>Solidity</th>\n",
       "      <td>2148.0</td>\n",
       "      <td>0.940093</td>\n",
       "      <td>0.050452</td>\n",
       "      <td>0.5880</td>\n",
       "      <td>0.919850</td>\n",
       "      <td>0.95415</td>\n",
       "      <td>0.976925</td>\n",
       "      <td>0.9951</td>\n",
       "    </tr>\n",
       "    <tr>\n",
       "      <th>Convex_Area</th>\n",
       "      <td>2148.0</td>\n",
       "      <td>85015.839851</td>\n",
       "      <td>13154.919327</td>\n",
       "      <td>37935.0000</td>\n",
       "      <td>76467.000000</td>\n",
       "      <td>85075.50000</td>\n",
       "      <td>93893.500000</td>\n",
       "      <td>132478.0000</td>\n",
       "    </tr>\n",
       "    <tr>\n",
       "      <th>Extent</th>\n",
       "      <td>2148.0</td>\n",
       "      <td>0.716067</td>\n",
       "      <td>0.052532</td>\n",
       "      <td>0.4272</td>\n",
       "      <td>0.687000</td>\n",
       "      <td>0.72650</td>\n",
       "      <td>0.753600</td>\n",
       "      <td>0.8204</td>\n",
       "    </tr>\n",
       "    <tr>\n",
       "      <th>Aspect_Ratio</th>\n",
       "      <td>2148.0</td>\n",
       "      <td>1.898154</td>\n",
       "      <td>0.240100</td>\n",
       "      <td>1.1585</td>\n",
       "      <td>1.736375</td>\n",
       "      <td>1.89625</td>\n",
       "      <td>2.067025</td>\n",
       "      <td>3.0858</td>\n",
       "    </tr>\n",
       "    <tr>\n",
       "      <th>Roundness</th>\n",
       "      <td>2148.0</td>\n",
       "      <td>0.569172</td>\n",
       "      <td>0.212760</td>\n",
       "      <td>0.0628</td>\n",
       "      <td>0.371250</td>\n",
       "      <td>0.64340</td>\n",
       "      <td>0.744125</td>\n",
       "      <td>0.9336</td>\n",
       "    </tr>\n",
       "    <tr>\n",
       "      <th>Compactness</th>\n",
       "      <td>2148.0</td>\n",
       "      <td>0.713077</td>\n",
       "      <td>0.044547</td>\n",
       "      <td>0.4760</td>\n",
       "      <td>0.681550</td>\n",
       "      <td>0.71070</td>\n",
       "      <td>0.741650</td>\n",
       "      <td>0.8779</td>\n",
       "    </tr>\n",
       "    <tr>\n",
       "      <th>Shapefactor_1</th>\n",
       "      <td>2148.0</td>\n",
       "      <td>0.005701</td>\n",
       "      <td>0.000817</td>\n",
       "      <td>0.0040</td>\n",
       "      <td>0.005200</td>\n",
       "      <td>0.00560</td>\n",
       "      <td>0.006100</td>\n",
       "      <td>0.0131</td>\n",
       "    </tr>\n",
       "    <tr>\n",
       "      <th>Shapefactor_2</th>\n",
       "      <td>2148.0</td>\n",
       "      <td>0.003017</td>\n",
       "      <td>0.000340</td>\n",
       "      <td>0.0024</td>\n",
       "      <td>0.002800</td>\n",
       "      <td>0.00300</td>\n",
       "      <td>0.003200</td>\n",
       "      <td>0.0053</td>\n",
       "    </tr>\n",
       "    <tr>\n",
       "      <th>Shapefactor_3</th>\n",
       "      <td>2148.0</td>\n",
       "      <td>0.510461</td>\n",
       "      <td>0.063942</td>\n",
       "      <td>0.2266</td>\n",
       "      <td>0.464475</td>\n",
       "      <td>0.50515</td>\n",
       "      <td>0.550075</td>\n",
       "      <td>0.7706</td>\n",
       "    </tr>\n",
       "    <tr>\n",
       "      <th>Shapefactor_4</th>\n",
       "      <td>2148.0</td>\n",
       "      <td>0.955239</td>\n",
       "      <td>0.051840</td>\n",
       "      <td>0.6204</td>\n",
       "      <td>0.944000</td>\n",
       "      <td>0.97310</td>\n",
       "      <td>0.987300</td>\n",
       "      <td>0.9990</td>\n",
       "    </tr>\n",
       "    <tr>\n",
       "      <th>Mean_RR</th>\n",
       "      <td>2148.0</td>\n",
       "      <td>218.067505</td>\n",
       "      <td>10.793178</td>\n",
       "      <td>167.1913</td>\n",
       "      <td>211.608950</td>\n",
       "      <td>219.52980</td>\n",
       "      <td>225.941500</td>\n",
       "      <td>241.2752</td>\n",
       "    </tr>\n",
       "    <tr>\n",
       "      <th>Mean_RG</th>\n",
       "      <td>2148.0</td>\n",
       "      <td>207.973008</td>\n",
       "      <td>12.073221</td>\n",
       "      <td>162.6230</td>\n",
       "      <td>200.437100</td>\n",
       "      <td>208.88500</td>\n",
       "      <td>216.494700</td>\n",
       "      <td>240.5065</td>\n",
       "    </tr>\n",
       "    <tr>\n",
       "      <th>Mean_RB</th>\n",
       "      <td>2148.0</td>\n",
       "      <td>191.995311</td>\n",
       "      <td>13.030505</td>\n",
       "      <td>146.7876</td>\n",
       "      <td>182.930675</td>\n",
       "      <td>192.03635</td>\n",
       "      <td>201.097725</td>\n",
       "      <td>235.0007</td>\n",
       "    </tr>\n",
       "    <tr>\n",
       "      <th>StdDev_RR</th>\n",
       "      <td>2148.0</td>\n",
       "      <td>21.380084</td>\n",
       "      <td>3.127813</td>\n",
       "      <td>10.6111</td>\n",
       "      <td>19.253550</td>\n",
       "      <td>21.42510</td>\n",
       "      <td>23.695900</td>\n",
       "      <td>30.8383</td>\n",
       "    </tr>\n",
       "    <tr>\n",
       "      <th>StdDev_RG</th>\n",
       "      <td>2148.0</td>\n",
       "      <td>22.591454</td>\n",
       "      <td>3.622222</td>\n",
       "      <td>11.9854</td>\n",
       "      <td>20.036675</td>\n",
       "      <td>22.52325</td>\n",
       "      <td>25.241900</td>\n",
       "      <td>33.6146</td>\n",
       "    </tr>\n",
       "    <tr>\n",
       "      <th>StdDev_RB</th>\n",
       "      <td>2148.0</td>\n",
       "      <td>22.427056</td>\n",
       "      <td>3.926325</td>\n",
       "      <td>11.1971</td>\n",
       "      <td>19.722425</td>\n",
       "      <td>22.27690</td>\n",
       "      <td>25.140125</td>\n",
       "      <td>42.7566</td>\n",
       "    </tr>\n",
       "    <tr>\n",
       "      <th>Skew_RR</th>\n",
       "      <td>2148.0</td>\n",
       "      <td>-0.735243</td>\n",
       "      <td>0.384584</td>\n",
       "      <td>-1.9316</td>\n",
       "      <td>-0.990900</td>\n",
       "      <td>-0.75660</td>\n",
       "      <td>-0.502500</td>\n",
       "      <td>1.8654</td>\n",
       "    </tr>\n",
       "    <tr>\n",
       "      <th>Skew_RG</th>\n",
       "      <td>2148.0</td>\n",
       "      <td>-0.615580</td>\n",
       "      <td>0.389219</td>\n",
       "      <td>-1.6582</td>\n",
       "      <td>-0.875975</td>\n",
       "      <td>-0.65305</td>\n",
       "      <td>-0.405000</td>\n",
       "      <td>2.2576</td>\n",
       "    </tr>\n",
       "    <tr>\n",
       "      <th>Skew_RB</th>\n",
       "      <td>2148.0</td>\n",
       "      <td>-0.367142</td>\n",
       "      <td>0.426964</td>\n",
       "      <td>-2.3486</td>\n",
       "      <td>-0.645800</td>\n",
       "      <td>-0.42455</td>\n",
       "      <td>-0.158400</td>\n",
       "      <td>1.8521</td>\n",
       "    </tr>\n",
       "    <tr>\n",
       "      <th>Kurtosis_RR</th>\n",
       "      <td>2148.0</td>\n",
       "      <td>3.054000</td>\n",
       "      <td>0.733993</td>\n",
       "      <td>1.6624</td>\n",
       "      <td>2.509700</td>\n",
       "      <td>2.94175</td>\n",
       "      <td>3.446500</td>\n",
       "      <td>8.8906</td>\n",
       "    </tr>\n",
       "    <tr>\n",
       "      <th>Kurtosis_RG</th>\n",
       "      <td>2148.0</td>\n",
       "      <td>2.903015</td>\n",
       "      <td>0.651383</td>\n",
       "      <td>1.6655</td>\n",
       "      <td>2.437400</td>\n",
       "      <td>2.80705</td>\n",
       "      <td>3.247400</td>\n",
       "      <td>10.4539</td>\n",
       "    </tr>\n",
       "    <tr>\n",
       "      <th>Kurtosis_RB</th>\n",
       "      <td>2148.0</td>\n",
       "      <td>2.940572</td>\n",
       "      <td>0.750171</td>\n",
       "      <td>1.5225</td>\n",
       "      <td>2.449425</td>\n",
       "      <td>2.78335</td>\n",
       "      <td>3.224650</td>\n",
       "      <td>11.5339</td>\n",
       "    </tr>\n",
       "  </tbody>\n",
       "</table>\n",
       "</div>"
      ],
      "text/plain": [
       "                count          mean           std         min           25%  \\\n",
       "Area           2148.0  79950.655493  13121.737799  29808.0000  71936.750000   \n",
       "Perimeter      2148.0   1425.971751    375.565503    858.3630   1170.996250   \n",
       "Major_Axis     2148.0    446.248968     32.445304    320.3445    426.508750   \n",
       "Minor_Axis     2148.0    238.311842     30.310695    133.5096    217.875825   \n",
       "Eccentricity   2148.0      0.840219      0.048759      0.5049      0.817500   \n",
       "Eqdiasq        2148.0    317.919173     26.908600    194.8146    302.642850   \n",
       "Solidity       2148.0      0.940093      0.050452      0.5880      0.919850   \n",
       "Convex_Area    2148.0  85015.839851  13154.919327  37935.0000  76467.000000   \n",
       "Extent         2148.0      0.716067      0.052532      0.4272      0.687000   \n",
       "Aspect_Ratio   2148.0      1.898154      0.240100      1.1585      1.736375   \n",
       "Roundness      2148.0      0.569172      0.212760      0.0628      0.371250   \n",
       "Compactness    2148.0      0.713077      0.044547      0.4760      0.681550   \n",
       "Shapefactor_1  2148.0      0.005701      0.000817      0.0040      0.005200   \n",
       "Shapefactor_2  2148.0      0.003017      0.000340      0.0024      0.002800   \n",
       "Shapefactor_3  2148.0      0.510461      0.063942      0.2266      0.464475   \n",
       "Shapefactor_4  2148.0      0.955239      0.051840      0.6204      0.944000   \n",
       "Mean_RR        2148.0    218.067505     10.793178    167.1913    211.608950   \n",
       "Mean_RG        2148.0    207.973008     12.073221    162.6230    200.437100   \n",
       "Mean_RB        2148.0    191.995311     13.030505    146.7876    182.930675   \n",
       "StdDev_RR      2148.0     21.380084      3.127813     10.6111     19.253550   \n",
       "StdDev_RG      2148.0     22.591454      3.622222     11.9854     20.036675   \n",
       "StdDev_RB      2148.0     22.427056      3.926325     11.1971     19.722425   \n",
       "Skew_RR        2148.0     -0.735243      0.384584     -1.9316     -0.990900   \n",
       "Skew_RG        2148.0     -0.615580      0.389219     -1.6582     -0.875975   \n",
       "Skew_RB        2148.0     -0.367142      0.426964     -2.3486     -0.645800   \n",
       "Kurtosis_RR    2148.0      3.054000      0.733993      1.6624      2.509700   \n",
       "Kurtosis_RG    2148.0      2.903015      0.651383      1.6655      2.437400   \n",
       "Kurtosis_RB    2148.0      2.940572      0.750171      1.5225      2.449425   \n",
       "\n",
       "                       50%           75%          max  \n",
       "Area           79905.50000  89030.500000  124008.0000  \n",
       "Perimeter       1262.78550   1607.906250    2755.0491  \n",
       "Major_Axis       448.57475    468.509400     541.9661  \n",
       "Minor_Axis       236.41635    257.760150     383.0461  \n",
       "Eccentricity       0.84965      0.875200       0.9460  \n",
       "Eqdiasq          318.96530    336.685525     397.3561  \n",
       "Solidity           0.95415      0.976925       0.9951  \n",
       "Convex_Area    85075.50000  93893.500000  132478.0000  \n",
       "Extent             0.72650      0.753600       0.8204  \n",
       "Aspect_Ratio       1.89625      2.067025       3.0858  \n",
       "Roundness          0.64340      0.744125       0.9336  \n",
       "Compactness        0.71070      0.741650       0.8779  \n",
       "Shapefactor_1      0.00560      0.006100       0.0131  \n",
       "Shapefactor_2      0.00300      0.003200       0.0053  \n",
       "Shapefactor_3      0.50515      0.550075       0.7706  \n",
       "Shapefactor_4      0.97310      0.987300       0.9990  \n",
       "Mean_RR          219.52980    225.941500     241.2752  \n",
       "Mean_RG          208.88500    216.494700     240.5065  \n",
       "Mean_RB          192.03635    201.097725     235.0007  \n",
       "StdDev_RR         21.42510     23.695900      30.8383  \n",
       "StdDev_RG         22.52325     25.241900      33.6146  \n",
       "StdDev_RB         22.27690     25.140125      42.7566  \n",
       "Skew_RR           -0.75660     -0.502500       1.8654  \n",
       "Skew_RG           -0.65305     -0.405000       2.2576  \n",
       "Skew_RB           -0.42455     -0.158400       1.8521  \n",
       "Kurtosis_RR        2.94175      3.446500       8.8906  \n",
       "Kurtosis_RG        2.80705      3.247400      10.4539  \n",
       "Kurtosis_RB        2.78335      3.224650      11.5339  "
      ]
     },
     "execution_count": 10,
     "metadata": {},
     "output_type": "execute_result"
    }
   ],
   "source": [
    "data.describe().T"
   ]
  },
  {
   "cell_type": "code",
   "execution_count": 11,
   "id": "074d5549",
   "metadata": {
    "ExecuteTime": {
     "end_time": "2023-10-22T19:05:09.697044Z",
     "start_time": "2023-10-22T19:05:09.547022400Z"
    },
    "execution": {
     "iopub.execute_input": "2023-12-17T20:18:01.644638Z",
     "iopub.status.busy": "2023-12-17T20:18:01.643725Z",
     "iopub.status.idle": "2023-12-17T20:18:01.654002Z",
     "shell.execute_reply": "2023-12-17T20:18:01.652856Z"
    },
    "papermill": {
     "duration": 0.039811,
     "end_time": "2023-12-17T20:18:01.656468",
     "exception": false,
     "start_time": "2023-12-17T20:18:01.616657",
     "status": "completed"
    },
    "tags": []
   },
   "outputs": [
    {
     "data": {
      "text/plain": [
       "Area             0\n",
       "Perimeter        0\n",
       "Major_Axis       0\n",
       "Minor_Axis       0\n",
       "Eccentricity     0\n",
       "Eqdiasq          0\n",
       "Solidity         0\n",
       "Convex_Area      0\n",
       "Extent           0\n",
       "Aspect_Ratio     0\n",
       "Roundness        0\n",
       "Compactness      0\n",
       "Shapefactor_1    0\n",
       "Shapefactor_2    0\n",
       "Shapefactor_3    0\n",
       "Shapefactor_4    0\n",
       "Mean_RR          0\n",
       "Mean_RG          0\n",
       "Mean_RB          0\n",
       "StdDev_RR        0\n",
       "StdDev_RG        0\n",
       "StdDev_RB        0\n",
       "Skew_RR          0\n",
       "Skew_RG          0\n",
       "Skew_RB          0\n",
       "Kurtosis_RR      0\n",
       "Kurtosis_RG      0\n",
       "Kurtosis_RB      0\n",
       "Class            0\n",
       "dtype: int64"
      ]
     },
     "execution_count": 11,
     "metadata": {},
     "output_type": "execute_result"
    }
   ],
   "source": [
    "data.isnull().sum()"
   ]
  },
  {
   "cell_type": "code",
   "execution_count": 12,
   "id": "6ea80cc7",
   "metadata": {
    "ExecuteTime": {
     "end_time": "2023-10-22T19:05:09.698046200Z",
     "start_time": "2023-10-22T19:05:09.555563100Z"
    },
    "execution": {
     "iopub.execute_input": "2023-12-17T20:18:01.710932Z",
     "iopub.status.busy": "2023-12-17T20:18:01.709906Z",
     "iopub.status.idle": "2023-12-17T20:18:01.719220Z",
     "shell.execute_reply": "2023-12-17T20:18:01.717412Z"
    },
    "papermill": {
     "duration": 0.040999,
     "end_time": "2023-12-17T20:18:01.722061",
     "exception": false,
     "start_time": "2023-12-17T20:18:01.681062",
     "status": "completed"
    },
    "tags": []
   },
   "outputs": [
    {
     "data": {
      "text/plain": [
       "array(['Kirmizi_Pistachio', 'Siirt_Pistachio'], dtype=object)"
      ]
     },
     "execution_count": 12,
     "metadata": {},
     "output_type": "execute_result"
    }
   ],
   "source": [
    "data['Class'].unique()"
   ]
  },
  {
   "cell_type": "code",
   "execution_count": 13,
   "id": "a18d6a4a",
   "metadata": {
    "ExecuteTime": {
     "end_time": "2023-10-22T19:05:09.749144300Z",
     "start_time": "2023-10-22T19:05:09.565539200Z"
    },
    "execution": {
     "iopub.execute_input": "2023-12-17T20:18:01.780978Z",
     "iopub.status.busy": "2023-12-17T20:18:01.779871Z",
     "iopub.status.idle": "2023-12-17T20:18:01.789815Z",
     "shell.execute_reply": "2023-12-17T20:18:01.788508Z"
    },
    "papermill": {
     "duration": 0.041666,
     "end_time": "2023-12-17T20:18:01.792321",
     "exception": false,
     "start_time": "2023-12-17T20:18:01.750655",
     "status": "completed"
    },
    "tags": []
   },
   "outputs": [
    {
     "data": {
      "text/plain": [
       "Class\n",
       "Kirmizi_Pistachio    1232\n",
       "Siirt_Pistachio       916\n",
       "Name: count, dtype: int64"
      ]
     },
     "execution_count": 13,
     "metadata": {},
     "output_type": "execute_result"
    }
   ],
   "source": [
    "data[\"Class\"].value_counts()"
   ]
  },
  {
   "cell_type": "code",
   "execution_count": 14,
   "id": "48d1c82b",
   "metadata": {
    "execution": {
     "iopub.execute_input": "2023-12-17T20:18:01.847665Z",
     "iopub.status.busy": "2023-12-17T20:18:01.846278Z",
     "iopub.status.idle": "2023-12-17T20:18:02.124176Z",
     "shell.execute_reply": "2023-12-17T20:18:02.123032Z"
    },
    "papermill": {
     "duration": 0.307332,
     "end_time": "2023-12-17T20:18:02.126652",
     "exception": false,
     "start_time": "2023-12-17T20:18:01.819320",
     "status": "completed"
    },
    "tags": []
   },
   "outputs": [
    {
     "data": {
      "text/plain": [
       "<Axes: xlabel='Class', ylabel='count'>"
      ]
     },
     "execution_count": 14,
     "metadata": {},
     "output_type": "execute_result"
    },
    {
     "data": {
      "image/png": "[encoded data removed]",
      "text/plain": [
       "<Figure size 640x480 with 1 Axes>"
      ]
     },
     "metadata": {},
     "output_type": "display_data"
    }
   ],
   "source": [
    "sns.countplot(x='Class', data = data)"
   ]
  },
  {
   "cell_type": "code",
   "execution_count": 15,
   "id": "4b3ce654",
   "metadata": {
    "ExecuteTime": {
     "end_time": "2023-10-22T19:05:09.749144300Z",
     "start_time": "2023-10-22T19:05:09.578203200Z"
    },
    "execution": {
     "iopub.execute_input": "2023-12-17T20:18:02.179234Z",
     "iopub.status.busy": "2023-12-17T20:18:02.178783Z",
     "iopub.status.idle": "2023-12-17T20:18:02.185487Z",
     "shell.execute_reply": "2023-12-17T20:18:02.184324Z"
    },
    "papermill": {
     "duration": 0.035947,
     "end_time": "2023-12-17T20:18:02.187917",
     "exception": false,
     "start_time": "2023-12-17T20:18:02.151970",
     "status": "completed"
    },
    "tags": []
   },
   "outputs": [],
   "source": [
    "labelencoder = LabelEncoder()\n",
    "data[\"Class\"] = labelencoder.fit_transform(data['Class'])"
   ]
  },
  {
   "cell_type": "code",
   "execution_count": 16,
   "id": "b1cdedf8",
   "metadata": {
    "execution": {
     "iopub.execute_input": "2023-12-17T20:18:02.241492Z",
     "iopub.status.busy": "2023-12-17T20:18:02.240477Z",
     "iopub.status.idle": "2023-12-17T20:18:02.299483Z",
     "shell.execute_reply": "2023-12-17T20:18:02.298555Z"
    },
    "papermill": {
     "duration": 0.088935,
     "end_time": "2023-12-17T20:18:02.302425",
     "exception": false,
     "start_time": "2023-12-17T20:18:02.213490",
     "status": "completed"
    },
    "tags": []
   },
   "outputs": [
    {
     "data": {
      "text/html": [
       "<div>\n",
       "<style scoped>\n",
       "    .dataframe tbody tr th:only-of-type {\n",
       "        vertical-align: middle;\n",
       "    }\n",
       "\n",
       "    .dataframe tbody tr th {\n",
       "        vertical-align: top;\n",
       "    }\n",
       "\n",
       "    .dataframe thead th {\n",
       "        text-align: right;\n",
       "    }\n",
       "</style>\n",
       "<table border=\"1\" class=\"dataframe\">\n",
       "  <thead>\n",
       "    <tr style=\"text-align: right;\">\n",
       "      <th></th>\n",
       "      <th>Area</th>\n",
       "      <th>Perimeter</th>\n",
       "      <th>Major_Axis</th>\n",
       "      <th>Minor_Axis</th>\n",
       "      <th>Eccentricity</th>\n",
       "      <th>Eqdiasq</th>\n",
       "      <th>Solidity</th>\n",
       "      <th>Convex_Area</th>\n",
       "      <th>Extent</th>\n",
       "      <th>Aspect_Ratio</th>\n",
       "      <th>...</th>\n",
       "      <th>StdDev_RR</th>\n",
       "      <th>StdDev_RG</th>\n",
       "      <th>StdDev_RB</th>\n",
       "      <th>Skew_RR</th>\n",
       "      <th>Skew_RG</th>\n",
       "      <th>Skew_RB</th>\n",
       "      <th>Kurtosis_RR</th>\n",
       "      <th>Kurtosis_RG</th>\n",
       "      <th>Kurtosis_RB</th>\n",
       "      <th>Class</th>\n",
       "    </tr>\n",
       "  </thead>\n",
       "  <tbody>\n",
       "    <tr>\n",
       "      <th>Area</th>\n",
       "      <td>1.000000</td>\n",
       "      <td>0.115941</td>\n",
       "      <td>0.697782</td>\n",
       "      <td>0.795881</td>\n",
       "      <td>-0.358892</td>\n",
       "      <td>0.997399</td>\n",
       "      <td>0.363959</td>\n",
       "      <td>0.943877</td>\n",
       "      <td>0.331784</td>\n",
       "      <td>-0.424025</td>\n",
       "      <td>...</td>\n",
       "      <td>0.024021</td>\n",
       "      <td>0.032112</td>\n",
       "      <td>-0.030652</td>\n",
       "      <td>-0.375466</td>\n",
       "      <td>-0.375748</td>\n",
       "      <td>-0.193497</td>\n",
       "      <td>0.216112</td>\n",
       "      <td>0.135427</td>\n",
       "      <td>-0.030522</td>\n",
       "      <td>0.589226</td>\n",
       "    </tr>\n",
       "    <tr>\n",
       "      <th>Perimeter</th>\n",
       "      <td>0.115941</td>\n",
       "      <td>1.000000</td>\n",
       "      <td>0.094296</td>\n",
       "      <td>0.390740</td>\n",
       "      <td>-0.334483</td>\n",
       "      <td>0.113631</td>\n",
       "      <td>-0.671046</td>\n",
       "      <td>0.364474</td>\n",
       "      <td>-0.403916</td>\n",
       "      <td>-0.312373</td>\n",
       "      <td>...</td>\n",
       "      <td>0.058104</td>\n",
       "      <td>0.126536</td>\n",
       "      <td>0.022171</td>\n",
       "      <td>0.197617</td>\n",
       "      <td>0.129641</td>\n",
       "      <td>0.057866</td>\n",
       "      <td>-0.246827</td>\n",
       "      <td>-0.190720</td>\n",
       "      <td>-0.081029</td>\n",
       "      <td>0.145290</td>\n",
       "    </tr>\n",
       "    <tr>\n",
       "      <th>Major_Axis</th>\n",
       "      <td>0.697782</td>\n",
       "      <td>0.094296</td>\n",
       "      <td>1.000000</td>\n",
       "      <td>0.272578</td>\n",
       "      <td>0.298836</td>\n",
       "      <td>0.705333</td>\n",
       "      <td>0.247822</td>\n",
       "      <td>0.661892</td>\n",
       "      <td>0.186830</td>\n",
       "      <td>0.265049</td>\n",
       "      <td>...</td>\n",
       "      <td>0.057641</td>\n",
       "      <td>0.046191</td>\n",
       "      <td>0.065028</td>\n",
       "      <td>-0.273309</td>\n",
       "      <td>-0.246175</td>\n",
       "      <td>-0.120786</td>\n",
       "      <td>0.206791</td>\n",
       "      <td>0.150055</td>\n",
       "      <td>0.016733</td>\n",
       "      <td>0.136845</td>\n",
       "    </tr>\n",
       "    <tr>\n",
       "      <th>Minor_Axis</th>\n",
       "      <td>0.795881</td>\n",
       "      <td>0.390740</td>\n",
       "      <td>0.272578</td>\n",
       "      <td>1.000000</td>\n",
       "      <td>-0.816731</td>\n",
       "      <td>0.793155</td>\n",
       "      <td>-0.085556</td>\n",
       "      <td>0.890003</td>\n",
       "      <td>0.047442</td>\n",
       "      <td>-0.839078</td>\n",
       "      <td>...</td>\n",
       "      <td>0.023901</td>\n",
       "      <td>0.061692</td>\n",
       "      <td>-0.071212</td>\n",
       "      <td>-0.237843</td>\n",
       "      <td>-0.277873</td>\n",
       "      <td>-0.149111</td>\n",
       "      <td>0.059061</td>\n",
       "      <td>0.015342</td>\n",
       "      <td>-0.096175</td>\n",
       "      <td>0.668126</td>\n",
       "    </tr>\n",
       "    <tr>\n",
       "      <th>Eccentricity</th>\n",
       "      <td>-0.358892</td>\n",
       "      <td>-0.334483</td>\n",
       "      <td>0.298836</td>\n",
       "      <td>-0.816731</td>\n",
       "      <td>1.000000</td>\n",
       "      <td>-0.352723</td>\n",
       "      <td>0.257060</td>\n",
       "      <td>-0.482713</td>\n",
       "      <td>0.080967</td>\n",
       "      <td>0.943751</td>\n",
       "      <td>...</td>\n",
       "      <td>0.026200</td>\n",
       "      <td>-0.018774</td>\n",
       "      <td>0.116054</td>\n",
       "      <td>0.064266</td>\n",
       "      <td>0.118885</td>\n",
       "      <td>0.061233</td>\n",
       "      <td>0.055586</td>\n",
       "      <td>0.060771</td>\n",
       "      <td>0.091782</td>\n",
       "      <td>-0.546759</td>\n",
       "    </tr>\n",
       "    <tr>\n",
       "      <th>Eqdiasq</th>\n",
       "      <td>0.997399</td>\n",
       "      <td>0.113631</td>\n",
       "      <td>0.705333</td>\n",
       "      <td>0.793155</td>\n",
       "      <td>-0.352723</td>\n",
       "      <td>1.000000</td>\n",
       "      <td>0.372779</td>\n",
       "      <td>0.940651</td>\n",
       "      <td>0.340073</td>\n",
       "      <td>-0.423318</td>\n",
       "      <td>...</td>\n",
       "      <td>0.039178</td>\n",
       "      <td>0.045066</td>\n",
       "      <td>-0.017884</td>\n",
       "      <td>-0.383692</td>\n",
       "      <td>-0.383335</td>\n",
       "      <td>-0.197613</td>\n",
       "      <td>0.212359</td>\n",
       "      <td>0.130611</td>\n",
       "      <td>-0.038081</td>\n",
       "      <td>0.577300</td>\n",
       "    </tr>\n",
       "    <tr>\n",
       "      <th>Solidity</th>\n",
       "      <td>0.363959</td>\n",
       "      <td>-0.671046</td>\n",
       "      <td>0.247822</td>\n",
       "      <td>-0.085556</td>\n",
       "      <td>0.257060</td>\n",
       "      <td>0.372779</td>\n",
       "      <td>1.000000</td>\n",
       "      <td>0.042000</td>\n",
       "      <td>0.678599</td>\n",
       "      <td>0.177830</td>\n",
       "      <td>...</td>\n",
       "      <td>-0.026426</td>\n",
       "      <td>-0.085937</td>\n",
       "      <td>-0.024788</td>\n",
       "      <td>-0.367507</td>\n",
       "      <td>-0.304009</td>\n",
       "      <td>-0.145714</td>\n",
       "      <td>0.315469</td>\n",
       "      <td>0.223997</td>\n",
       "      <td>0.053262</td>\n",
       "      <td>0.125347</td>\n",
       "    </tr>\n",
       "    <tr>\n",
       "      <th>Convex_Area</th>\n",
       "      <td>0.943877</td>\n",
       "      <td>0.364474</td>\n",
       "      <td>0.661892</td>\n",
       "      <td>0.890003</td>\n",
       "      <td>-0.482713</td>\n",
       "      <td>0.940651</td>\n",
       "      <td>0.042000</td>\n",
       "      <td>1.000000</td>\n",
       "      <td>0.122881</td>\n",
       "      <td>-0.522637</td>\n",
       "      <td>...</td>\n",
       "      <td>0.041743</td>\n",
       "      <td>0.071479</td>\n",
       "      <td>-0.019823</td>\n",
       "      <td>-0.282384</td>\n",
       "      <td>-0.305124</td>\n",
       "      <td>-0.162942</td>\n",
       "      <td>0.117510</td>\n",
       "      <td>0.061541</td>\n",
       "      <td>-0.057531</td>\n",
       "      <td>0.584618</td>\n",
       "    </tr>\n",
       "    <tr>\n",
       "      <th>Extent</th>\n",
       "      <td>0.331784</td>\n",
       "      <td>-0.403916</td>\n",
       "      <td>0.186830</td>\n",
       "      <td>0.047442</td>\n",
       "      <td>0.080967</td>\n",
       "      <td>0.340073</td>\n",
       "      <td>0.678599</td>\n",
       "      <td>0.122881</td>\n",
       "      <td>1.000000</td>\n",
       "      <td>0.023303</td>\n",
       "      <td>...</td>\n",
       "      <td>0.092330</td>\n",
       "      <td>0.047355</td>\n",
       "      <td>0.049950</td>\n",
       "      <td>-0.275952</td>\n",
       "      <td>-0.247209</td>\n",
       "      <td>-0.153359</td>\n",
       "      <td>0.138206</td>\n",
       "      <td>0.059725</td>\n",
       "      <td>-0.052924</td>\n",
       "      <td>0.100200</td>\n",
       "    </tr>\n",
       "    <tr>\n",
       "      <th>Aspect_Ratio</th>\n",
       "      <td>-0.424025</td>\n",
       "      <td>-0.312373</td>\n",
       "      <td>0.265049</td>\n",
       "      <td>-0.839078</td>\n",
       "      <td>0.943751</td>\n",
       "      <td>-0.423318</td>\n",
       "      <td>0.177830</td>\n",
       "      <td>-0.522637</td>\n",
       "      <td>0.023303</td>\n",
       "      <td>1.000000</td>\n",
       "      <td>...</td>\n",
       "      <td>-0.025651</td>\n",
       "      <td>-0.061186</td>\n",
       "      <td>0.081160</td>\n",
       "      <td>0.111716</td>\n",
       "      <td>0.163461</td>\n",
       "      <td>0.095188</td>\n",
       "      <td>0.051779</td>\n",
       "      <td>0.069905</td>\n",
       "      <td>0.120274</td>\n",
       "      <td>-0.581469</td>\n",
       "    </tr>\n",
       "    <tr>\n",
       "      <th>Roundness</th>\n",
       "      <td>0.250423</td>\n",
       "      <td>-0.891777</td>\n",
       "      <td>0.153592</td>\n",
       "      <td>-0.066594</td>\n",
       "      <td>0.171669</td>\n",
       "      <td>0.254242</td>\n",
       "      <td>0.779134</td>\n",
       "      <td>-0.007125</td>\n",
       "      <td>0.512278</td>\n",
       "      <td>0.115896</td>\n",
       "      <td>...</td>\n",
       "      <td>-0.048205</td>\n",
       "      <td>-0.119303</td>\n",
       "      <td>-0.059019</td>\n",
       "      <td>-0.379447</td>\n",
       "      <td>-0.310229</td>\n",
       "      <td>-0.153091</td>\n",
       "      <td>0.368428</td>\n",
       "      <td>0.277583</td>\n",
       "      <td>0.067315</td>\n",
       "      <td>0.105768</td>\n",
       "    </tr>\n",
       "    <tr>\n",
       "      <th>Compactness</th>\n",
       "      <td>0.551711</td>\n",
       "      <td>0.044624</td>\n",
       "      <td>-0.201121</td>\n",
       "      <td>0.773512</td>\n",
       "      <td>-0.846851</td>\n",
       "      <td>0.549971</td>\n",
       "      <td>0.226165</td>\n",
       "      <td>0.515907</td>\n",
       "      <td>0.254064</td>\n",
       "      <td>-0.896857</td>\n",
       "      <td>...</td>\n",
       "      <td>-0.007406</td>\n",
       "      <td>0.012327</td>\n",
       "      <td>-0.094978</td>\n",
       "      <td>-0.210557</td>\n",
       "      <td>-0.242101</td>\n",
       "      <td>-0.128618</td>\n",
       "      <td>0.047176</td>\n",
       "      <td>0.001521</td>\n",
       "      <td>-0.076370</td>\n",
       "      <td>0.624939</td>\n",
       "    </tr>\n",
       "    <tr>\n",
       "      <th>Shapefactor_1</th>\n",
       "      <td>-0.892493</td>\n",
       "      <td>-0.081031</td>\n",
       "      <td>-0.391310</td>\n",
       "      <td>-0.851167</td>\n",
       "      <td>0.580983</td>\n",
       "      <td>-0.906893</td>\n",
       "      <td>-0.380619</td>\n",
       "      <td>-0.834649</td>\n",
       "      <td>-0.369237</td>\n",
       "      <td>0.677735</td>\n",
       "      <td>...</td>\n",
       "      <td>-0.068878</td>\n",
       "      <td>-0.073838</td>\n",
       "      <td>0.017259</td>\n",
       "      <td>0.375485</td>\n",
       "      <td>0.387729</td>\n",
       "      <td>0.206042</td>\n",
       "      <td>-0.142430</td>\n",
       "      <td>-0.062233</td>\n",
       "      <td>0.090543</td>\n",
       "      <td>-0.615513</td>\n",
       "    </tr>\n",
       "    <tr>\n",
       "      <th>Shapefactor_2</th>\n",
       "      <td>-0.652205</td>\n",
       "      <td>0.279590</td>\n",
       "      <td>-0.796526</td>\n",
       "      <td>-0.087657</td>\n",
       "      <td>-0.394392</td>\n",
       "      <td>-0.665368</td>\n",
       "      <td>-0.727156</td>\n",
       "      <td>-0.447161</td>\n",
       "      <td>-0.510576</td>\n",
       "      <td>-0.315574</td>\n",
       "      <td>...</td>\n",
       "      <td>-0.051050</td>\n",
       "      <td>-0.018118</td>\n",
       "      <td>-0.071614</td>\n",
       "      <td>0.336179</td>\n",
       "      <td>0.290826</td>\n",
       "      <td>0.148585</td>\n",
       "      <td>-0.248412</td>\n",
       "      <td>-0.168432</td>\n",
       "      <td>-0.038276</td>\n",
       "      <td>-0.126188</td>\n",
       "    </tr>\n",
       "    <tr>\n",
       "      <th>Shapefactor_3</th>\n",
       "      <td>0.545091</td>\n",
       "      <td>0.047527</td>\n",
       "      <td>-0.208956</td>\n",
       "      <td>0.771658</td>\n",
       "      <td>-0.855222</td>\n",
       "      <td>0.541747</td>\n",
       "      <td>0.215860</td>\n",
       "      <td>0.511311</td>\n",
       "      <td>0.245638</td>\n",
       "      <td>-0.892523</td>\n",
       "      <td>...</td>\n",
       "      <td>-0.016076</td>\n",
       "      <td>0.005018</td>\n",
       "      <td>-0.100607</td>\n",
       "      <td>-0.200412</td>\n",
       "      <td>-0.232618</td>\n",
       "      <td>-0.121409</td>\n",
       "      <td>0.047270</td>\n",
       "      <td>0.004140</td>\n",
       "      <td>-0.070763</td>\n",
       "      <td>0.626304</td>\n",
       "    </tr>\n",
       "    <tr>\n",
       "      <th>Shapefactor_4</th>\n",
       "      <td>0.297043</td>\n",
       "      <td>-0.631700</td>\n",
       "      <td>0.201741</td>\n",
       "      <td>-0.181450</td>\n",
       "      <td>0.325602</td>\n",
       "      <td>0.302469</td>\n",
       "      <td>0.949501</td>\n",
       "      <td>-0.017052</td>\n",
       "      <td>0.650896</td>\n",
       "      <td>0.250587</td>\n",
       "      <td>...</td>\n",
       "      <td>-0.028817</td>\n",
       "      <td>-0.077690</td>\n",
       "      <td>0.004583</td>\n",
       "      <td>-0.267230</td>\n",
       "      <td>-0.213445</td>\n",
       "      <td>-0.101518</td>\n",
       "      <td>0.236131</td>\n",
       "      <td>0.163063</td>\n",
       "      <td>0.078953</td>\n",
       "      <td>0.063084</td>\n",
       "    </tr>\n",
       "    <tr>\n",
       "      <th>Mean_RR</th>\n",
       "      <td>0.458989</td>\n",
       "      <td>-0.112832</td>\n",
       "      <td>0.313826</td>\n",
       "      <td>0.348688</td>\n",
       "      <td>-0.140715</td>\n",
       "      <td>0.471803</td>\n",
       "      <td>0.324373</td>\n",
       "      <td>0.386663</td>\n",
       "      <td>0.288204</td>\n",
       "      <td>-0.211895</td>\n",
       "      <td>...</td>\n",
       "      <td>0.526588</td>\n",
       "      <td>0.486606</td>\n",
       "      <td>0.335150</td>\n",
       "      <td>-0.754662</td>\n",
       "      <td>-0.729205</td>\n",
       "      <td>-0.597224</td>\n",
       "      <td>0.320163</td>\n",
       "      <td>0.174487</td>\n",
       "      <td>-0.215990</td>\n",
       "      <td>0.332455</td>\n",
       "    </tr>\n",
       "    <tr>\n",
       "      <th>Mean_RG</th>\n",
       "      <td>0.434786</td>\n",
       "      <td>-0.141907</td>\n",
       "      <td>0.322570</td>\n",
       "      <td>0.300901</td>\n",
       "      <td>-0.088731</td>\n",
       "      <td>0.445846</td>\n",
       "      <td>0.343476</td>\n",
       "      <td>0.352263</td>\n",
       "      <td>0.297986</td>\n",
       "      <td>-0.158098</td>\n",
       "      <td>...</td>\n",
       "      <td>0.505708</td>\n",
       "      <td>0.495783</td>\n",
       "      <td>0.345414</td>\n",
       "      <td>-0.760774</td>\n",
       "      <td>-0.729780</td>\n",
       "      <td>-0.599508</td>\n",
       "      <td>0.365236</td>\n",
       "      <td>0.206379</td>\n",
       "      <td>-0.220282</td>\n",
       "      <td>0.292409</td>\n",
       "    </tr>\n",
       "    <tr>\n",
       "      <th>Mean_RB</th>\n",
       "      <td>0.343026</td>\n",
       "      <td>-0.129536</td>\n",
       "      <td>0.229707</td>\n",
       "      <td>0.225780</td>\n",
       "      <td>-0.069469</td>\n",
       "      <td>0.345020</td>\n",
       "      <td>0.286765</td>\n",
       "      <td>0.267247</td>\n",
       "      <td>0.260058</td>\n",
       "      <td>-0.118314</td>\n",
       "      <td>...</td>\n",
       "      <td>0.404980</td>\n",
       "      <td>0.443904</td>\n",
       "      <td>0.270330</td>\n",
       "      <td>-0.583574</td>\n",
       "      <td>-0.560147</td>\n",
       "      <td>-0.485457</td>\n",
       "      <td>0.327407</td>\n",
       "      <td>0.200808</td>\n",
       "      <td>-0.170113</td>\n",
       "      <td>0.229117</td>\n",
       "    </tr>\n",
       "    <tr>\n",
       "      <th>StdDev_RR</th>\n",
       "      <td>0.024021</td>\n",
       "      <td>0.058104</td>\n",
       "      <td>0.057641</td>\n",
       "      <td>0.023901</td>\n",
       "      <td>0.026200</td>\n",
       "      <td>0.039178</td>\n",
       "      <td>-0.026426</td>\n",
       "      <td>0.041743</td>\n",
       "      <td>0.092330</td>\n",
       "      <td>-0.025651</td>\n",
       "      <td>...</td>\n",
       "      <td>1.000000</td>\n",
       "      <td>0.948158</td>\n",
       "      <td>0.712288</td>\n",
       "      <td>-0.127066</td>\n",
       "      <td>-0.185167</td>\n",
       "      <td>-0.377798</td>\n",
       "      <td>-0.400620</td>\n",
       "      <td>-0.444734</td>\n",
       "      <td>-0.521137</td>\n",
       "      <td>-0.148107</td>\n",
       "    </tr>\n",
       "    <tr>\n",
       "      <th>StdDev_RG</th>\n",
       "      <td>0.032112</td>\n",
       "      <td>0.126536</td>\n",
       "      <td>0.046191</td>\n",
       "      <td>0.061692</td>\n",
       "      <td>-0.018774</td>\n",
       "      <td>0.045066</td>\n",
       "      <td>-0.085937</td>\n",
       "      <td>0.071479</td>\n",
       "      <td>0.047355</td>\n",
       "      <td>-0.061186</td>\n",
       "      <td>...</td>\n",
       "      <td>0.948158</td>\n",
       "      <td>1.000000</td>\n",
       "      <td>0.767857</td>\n",
       "      <td>-0.074355</td>\n",
       "      <td>-0.119548</td>\n",
       "      <td>-0.325915</td>\n",
       "      <td>-0.406774</td>\n",
       "      <td>-0.470141</td>\n",
       "      <td>-0.539765</td>\n",
       "      <td>-0.098064</td>\n",
       "    </tr>\n",
       "    <tr>\n",
       "      <th>StdDev_RB</th>\n",
       "      <td>-0.030652</td>\n",
       "      <td>0.022171</td>\n",
       "      <td>0.065028</td>\n",
       "      <td>-0.071212</td>\n",
       "      <td>0.116054</td>\n",
       "      <td>-0.017884</td>\n",
       "      <td>-0.024788</td>\n",
       "      <td>-0.019823</td>\n",
       "      <td>0.049950</td>\n",
       "      <td>0.081160</td>\n",
       "      <td>...</td>\n",
       "      <td>0.712288</td>\n",
       "      <td>0.767857</td>\n",
       "      <td>1.000000</td>\n",
       "      <td>0.017249</td>\n",
       "      <td>0.040713</td>\n",
       "      <td>-0.143210</td>\n",
       "      <td>-0.303941</td>\n",
       "      <td>-0.372058</td>\n",
       "      <td>-0.371498</td>\n",
       "      <td>-0.217357</td>\n",
       "    </tr>\n",
       "    <tr>\n",
       "      <th>Skew_RR</th>\n",
       "      <td>-0.375466</td>\n",
       "      <td>0.197617</td>\n",
       "      <td>-0.273309</td>\n",
       "      <td>-0.237843</td>\n",
       "      <td>0.064266</td>\n",
       "      <td>-0.383692</td>\n",
       "      <td>-0.367507</td>\n",
       "      <td>-0.282384</td>\n",
       "      <td>-0.275952</td>\n",
       "      <td>0.111716</td>\n",
       "      <td>...</td>\n",
       "      <td>-0.127066</td>\n",
       "      <td>-0.074355</td>\n",
       "      <td>0.017249</td>\n",
       "      <td>1.000000</td>\n",
       "      <td>0.958768</td>\n",
       "      <td>0.683754</td>\n",
       "      <td>-0.598382</td>\n",
       "      <td>-0.443163</td>\n",
       "      <td>-0.042926</td>\n",
       "      <td>-0.317073</td>\n",
       "    </tr>\n",
       "    <tr>\n",
       "      <th>Skew_RG</th>\n",
       "      <td>-0.375748</td>\n",
       "      <td>0.129641</td>\n",
       "      <td>-0.246175</td>\n",
       "      <td>-0.277873</td>\n",
       "      <td>0.118885</td>\n",
       "      <td>-0.383335</td>\n",
       "      <td>-0.304009</td>\n",
       "      <td>-0.305124</td>\n",
       "      <td>-0.247209</td>\n",
       "      <td>0.163461</td>\n",
       "      <td>...</td>\n",
       "      <td>-0.185167</td>\n",
       "      <td>-0.119548</td>\n",
       "      <td>0.040713</td>\n",
       "      <td>0.958768</td>\n",
       "      <td>1.000000</td>\n",
       "      <td>0.766469</td>\n",
       "      <td>-0.475185</td>\n",
       "      <td>-0.359229</td>\n",
       "      <td>0.008422</td>\n",
       "      <td>-0.337884</td>\n",
       "    </tr>\n",
       "    <tr>\n",
       "      <th>Skew_RB</th>\n",
       "      <td>-0.193497</td>\n",
       "      <td>0.057866</td>\n",
       "      <td>-0.120786</td>\n",
       "      <td>-0.149111</td>\n",
       "      <td>0.061233</td>\n",
       "      <td>-0.197613</td>\n",
       "      <td>-0.145714</td>\n",
       "      <td>-0.162942</td>\n",
       "      <td>-0.153359</td>\n",
       "      <td>0.095188</td>\n",
       "      <td>...</td>\n",
       "      <td>-0.377798</td>\n",
       "      <td>-0.325915</td>\n",
       "      <td>-0.143210</td>\n",
       "      <td>0.683754</td>\n",
       "      <td>0.766469</td>\n",
       "      <td>1.000000</td>\n",
       "      <td>-0.146524</td>\n",
       "      <td>-0.037507</td>\n",
       "      <td>0.150305</td>\n",
       "      <td>-0.200009</td>\n",
       "    </tr>\n",
       "    <tr>\n",
       "      <th>Kurtosis_RR</th>\n",
       "      <td>0.216112</td>\n",
       "      <td>-0.246827</td>\n",
       "      <td>0.206791</td>\n",
       "      <td>0.059061</td>\n",
       "      <td>0.055586</td>\n",
       "      <td>0.212359</td>\n",
       "      <td>0.315469</td>\n",
       "      <td>0.117510</td>\n",
       "      <td>0.138206</td>\n",
       "      <td>0.051779</td>\n",
       "      <td>...</td>\n",
       "      <td>-0.400620</td>\n",
       "      <td>-0.406774</td>\n",
       "      <td>-0.303941</td>\n",
       "      <td>-0.598382</td>\n",
       "      <td>-0.475185</td>\n",
       "      <td>-0.146524</td>\n",
       "      <td>1.000000</td>\n",
       "      <td>0.942929</td>\n",
       "      <td>0.547662</td>\n",
       "      <td>0.155714</td>\n",
       "    </tr>\n",
       "    <tr>\n",
       "      <th>Kurtosis_RG</th>\n",
       "      <td>0.135427</td>\n",
       "      <td>-0.190720</td>\n",
       "      <td>0.150055</td>\n",
       "      <td>0.015342</td>\n",
       "      <td>0.060771</td>\n",
       "      <td>0.130611</td>\n",
       "      <td>0.223997</td>\n",
       "      <td>0.061541</td>\n",
       "      <td>0.059725</td>\n",
       "      <td>0.069905</td>\n",
       "      <td>...</td>\n",
       "      <td>-0.444734</td>\n",
       "      <td>-0.470141</td>\n",
       "      <td>-0.372058</td>\n",
       "      <td>-0.443163</td>\n",
       "      <td>-0.359229</td>\n",
       "      <td>-0.037507</td>\n",
       "      <td>0.942929</td>\n",
       "      <td>1.000000</td>\n",
       "      <td>0.676673</td>\n",
       "      <td>0.084705</td>\n",
       "    </tr>\n",
       "    <tr>\n",
       "      <th>Kurtosis_RB</th>\n",
       "      <td>-0.030522</td>\n",
       "      <td>-0.081029</td>\n",
       "      <td>0.016733</td>\n",
       "      <td>-0.096175</td>\n",
       "      <td>0.091782</td>\n",
       "      <td>-0.038081</td>\n",
       "      <td>0.053262</td>\n",
       "      <td>-0.057531</td>\n",
       "      <td>-0.052924</td>\n",
       "      <td>0.120274</td>\n",
       "      <td>...</td>\n",
       "      <td>-0.521137</td>\n",
       "      <td>-0.539765</td>\n",
       "      <td>-0.371498</td>\n",
       "      <td>-0.042926</td>\n",
       "      <td>0.008422</td>\n",
       "      <td>0.150305</td>\n",
       "      <td>0.547662</td>\n",
       "      <td>0.676673</td>\n",
       "      <td>1.000000</td>\n",
       "      <td>-0.051275</td>\n",
       "    </tr>\n",
       "    <tr>\n",
       "      <th>Class</th>\n",
       "      <td>0.589226</td>\n",
       "      <td>0.145290</td>\n",
       "      <td>0.136845</td>\n",
       "      <td>0.668126</td>\n",
       "      <td>-0.546759</td>\n",
       "      <td>0.577300</td>\n",
       "      <td>0.125347</td>\n",
       "      <td>0.584618</td>\n",
       "      <td>0.100200</td>\n",
       "      <td>-0.581469</td>\n",
       "      <td>...</td>\n",
       "      <td>-0.148107</td>\n",
       "      <td>-0.098064</td>\n",
       "      <td>-0.217357</td>\n",
       "      <td>-0.317073</td>\n",
       "      <td>-0.337884</td>\n",
       "      <td>-0.200009</td>\n",
       "      <td>0.155714</td>\n",
       "      <td>0.084705</td>\n",
       "      <td>-0.051275</td>\n",
       "      <td>1.000000</td>\n",
       "    </tr>\n",
       "  </tbody>\n",
       "</table>\n",
       "<p>29 rows × 29 columns</p>\n",
       "</div>"
      ],
      "text/plain": [
       "                   Area  Perimeter  Major_Axis  Minor_Axis  Eccentricity  \\\n",
       "Area           1.000000   0.115941    0.697782    0.795881     -0.358892   \n",
       "Perimeter      0.115941   1.000000    0.094296    0.390740     -0.334483   \n",
       "Major_Axis     0.697782   0.094296    1.000000    0.272578      0.298836   \n",
       "Minor_Axis     0.795881   0.390740    0.272578    1.000000     -0.816731   \n",
       "Eccentricity  -0.358892  -0.334483    0.298836   -0.816731      1.000000   \n",
       "Eqdiasq        0.997399   0.113631    0.705333    0.793155     -0.352723   \n",
       "Solidity       0.363959  -0.671046    0.247822   -0.085556      0.257060   \n",
       "Convex_Area    0.943877   0.364474    0.661892    0.890003     -0.482713   \n",
       "Extent         0.331784  -0.403916    0.186830    0.047442      0.080967   \n",
       "Aspect_Ratio  -0.424025  -0.312373    0.265049   -0.839078      0.943751   \n",
       "Roundness      0.250423  -0.891777    0.153592   -0.066594      0.171669   \n",
       "Compactness    0.551711   0.044624   -0.201121    0.773512     -0.846851   \n",
       "Shapefactor_1 -0.892493  -0.081031   -0.391310   -0.851167      0.580983   \n",
       "Shapefactor_2 -0.652205   0.279590   -0.796526   -0.087657     -0.394392   \n",
       "Shapefactor_3  0.545091   0.047527   -0.208956    0.771658     -0.855222   \n",
       "Shapefactor_4  0.297043  -0.631700    0.201741   -0.181450      0.325602   \n",
       "Mean_RR        0.458989  -0.112832    0.313826    0.348688     -0.140715   \n",
       "Mean_RG        0.434786  -0.141907    0.322570    0.300901     -0.088731   \n",
       "Mean_RB        0.343026  -0.129536    0.229707    0.225780     -0.069469   \n",
       "StdDev_RR      0.024021   0.058104    0.057641    0.023901      0.026200   \n",
       "StdDev_RG      0.032112   0.126536    0.046191    0.061692     -0.018774   \n",
       "StdDev_RB     -0.030652   0.022171    0.065028   -0.071212      0.116054   \n",
       "Skew_RR       -0.375466   0.197617   -0.273309   -0.237843      0.064266   \n",
       "Skew_RG       -0.375748   0.129641   -0.246175   -0.277873      0.118885   \n",
       "Skew_RB       -0.193497   0.057866   -0.120786   -0.149111      0.061233   \n",
       "Kurtosis_RR    0.216112  -0.246827    0.206791    0.059061      0.055586   \n",
       "Kurtosis_RG    0.135427  -0.190720    0.150055    0.015342      0.060771   \n",
       "Kurtosis_RB   -0.030522  -0.081029    0.016733   -0.096175      0.091782   \n",
       "Class          0.589226   0.145290    0.136845    0.668126     -0.546759   \n",
       "\n",
       "                Eqdiasq  Solidity  Convex_Area    Extent  Aspect_Ratio  ...  \\\n",
       "Area           0.997399  0.363959     0.943877  0.331784     -0.424025  ...   \n",
       "Perimeter      0.113631 -0.671046     0.364474 -0.403916     -0.312373  ...   \n",
       "Major_Axis     0.705333  0.247822     0.661892  0.186830      0.265049  ...   \n",
       "Minor_Axis     0.793155 -0.085556     0.890003  0.047442     -0.839078  ...   \n",
       "Eccentricity  -0.352723  0.257060    -0.482713  0.080967      0.943751  ...   \n",
       "Eqdiasq        1.000000  0.372779     0.940651  0.340073     -0.423318  ...   \n",
       "Solidity       0.372779  1.000000     0.042000  0.678599      0.177830  ...   \n",
       "Convex_Area    0.940651  0.042000     1.000000  0.122881     -0.522637  ...   \n",
       "Extent         0.340073  0.678599     0.122881  1.000000      0.023303  ...   \n",
       "Aspect_Ratio  -0.423318  0.177830    -0.522637  0.023303      1.000000  ...   \n",
       "Roundness      0.254242  0.779134    -0.007125  0.512278      0.115896  ...   \n",
       "Compactness    0.549971  0.226165     0.515907  0.254064     -0.896857  ...   \n",
       "Shapefactor_1 -0.906893 -0.380619    -0.834649 -0.369237      0.677735  ...   \n",
       "Shapefactor_2 -0.665368 -0.727156    -0.447161 -0.510576     -0.315574  ...   \n",
       "Shapefactor_3  0.541747  0.215860     0.511311  0.245638     -0.892523  ...   \n",
       "Shapefactor_4  0.302469  0.949501    -0.017052  0.650896      0.250587  ...   \n",
       "Mean_RR        0.471803  0.324373     0.386663  0.288204     -0.211895  ...   \n",
       "Mean_RG        0.445846  0.343476     0.352263  0.297986     -0.158098  ...   \n",
       "Mean_RB        0.345020  0.286765     0.267247  0.260058     -0.118314  ...   \n",
       "StdDev_RR      0.039178 -0.026426     0.041743  0.092330     -0.025651  ...   \n",
       "StdDev_RG      0.045066 -0.085937     0.071479  0.047355     -0.061186  ...   \n",
       "StdDev_RB     -0.017884 -0.024788    -0.019823  0.049950      0.081160  ...   \n",
       "Skew_RR       -0.383692 -0.367507    -0.282384 -0.275952      0.111716  ...   \n",
       "Skew_RG       -0.383335 -0.304009    -0.305124 -0.247209      0.163461  ...   \n",
       "Skew_RB       -0.197613 -0.145714    -0.162942 -0.153359      0.095188  ...   \n",
       "Kurtosis_RR    0.212359  0.315469     0.117510  0.138206      0.051779  ...   \n",
       "Kurtosis_RG    0.130611  0.223997     0.061541  0.059725      0.069905  ...   \n",
       "Kurtosis_RB   -0.038081  0.053262    -0.057531 -0.052924      0.120274  ...   \n",
       "Class          0.577300  0.125347     0.584618  0.100200     -0.581469  ...   \n",
       "\n",
       "               StdDev_RR  StdDev_RG  StdDev_RB   Skew_RR   Skew_RG   Skew_RB  \\\n",
       "Area            0.024021   0.032112  -0.030652 -0.375466 -0.375748 -0.193497   \n",
       "Perimeter       0.058104   0.126536   0.022171  0.197617  0.129641  0.057866   \n",
       "Major_Axis      0.057641   0.046191   0.065028 -0.273309 -0.246175 -0.120786   \n",
       "Minor_Axis      0.023901   0.061692  -0.071212 -0.237843 -0.277873 -0.149111   \n",
       "Eccentricity    0.026200  -0.018774   0.116054  0.064266  0.118885  0.061233   \n",
       "Eqdiasq         0.039178   0.045066  -0.017884 -0.383692 -0.383335 -0.197613   \n",
       "Solidity       -0.026426  -0.085937  -0.024788 -0.367507 -0.304009 -0.145714   \n",
       "Convex_Area     0.041743   0.071479  -0.019823 -0.282384 -0.305124 -0.162942   \n",
       "Extent          0.092330   0.047355   0.049950 -0.275952 -0.247209 -0.153359   \n",
       "Aspect_Ratio   -0.025651  -0.061186   0.081160  0.111716  0.163461  0.095188   \n",
       "Roundness      -0.048205  -0.119303  -0.059019 -0.379447 -0.310229 -0.153091   \n",
       "Compactness    -0.007406   0.012327  -0.094978 -0.210557 -0.242101 -0.128618   \n",
       "Shapefactor_1  -0.068878  -0.073838   0.017259  0.375485  0.387729  0.206042   \n",
       "Shapefactor_2  -0.051050  -0.018118  -0.071614  0.336179  0.290826  0.148585   \n",
       "Shapefactor_3  -0.016076   0.005018  -0.100607 -0.200412 -0.232618 -0.121409   \n",
       "Shapefactor_4  -0.028817  -0.077690   0.004583 -0.267230 -0.213445 -0.101518   \n",
       "Mean_RR         0.526588   0.486606   0.335150 -0.754662 -0.729205 -0.597224   \n",
       "Mean_RG         0.505708   0.495783   0.345414 -0.760774 -0.729780 -0.599508   \n",
       "Mean_RB         0.404980   0.443904   0.270330 -0.583574 -0.560147 -0.485457   \n",
       "StdDev_RR       1.000000   0.948158   0.712288 -0.127066 -0.185167 -0.377798   \n",
       "StdDev_RG       0.948158   1.000000   0.767857 -0.074355 -0.119548 -0.325915   \n",
       "StdDev_RB       0.712288   0.767857   1.000000  0.017249  0.040713 -0.143210   \n",
       "Skew_RR        -0.127066  -0.074355   0.017249  1.000000  0.958768  0.683754   \n",
       "Skew_RG        -0.185167  -0.119548   0.040713  0.958768  1.000000  0.766469   \n",
       "Skew_RB        -0.377798  -0.325915  -0.143210  0.683754  0.766469  1.000000   \n",
       "Kurtosis_RR    -0.400620  -0.406774  -0.303941 -0.598382 -0.475185 -0.146524   \n",
       "Kurtosis_RG    -0.444734  -0.470141  -0.372058 -0.443163 -0.359229 -0.037507   \n",
       "Kurtosis_RB    -0.521137  -0.539765  -0.371498 -0.042926  0.008422  0.150305   \n",
       "Class          -0.148107  -0.098064  -0.217357 -0.317073 -0.337884 -0.200009   \n",
       "\n",
       "               Kurtosis_RR  Kurtosis_RG  Kurtosis_RB     Class  \n",
       "Area              0.216112     0.135427    -0.030522  0.589226  \n",
       "Perimeter        -0.246827    -0.190720    -0.081029  0.145290  \n",
       "Major_Axis        0.206791     0.150055     0.016733  0.136845  \n",
       "Minor_Axis        0.059061     0.015342    -0.096175  0.668126  \n",
       "Eccentricity      0.055586     0.060771     0.091782 -0.546759  \n",
       "Eqdiasq           0.212359     0.130611    -0.038081  0.577300  \n",
       "Solidity          0.315469     0.223997     0.053262  0.125347  \n",
       "Convex_Area       0.117510     0.061541    -0.057531  0.584618  \n",
       "Extent            0.138206     0.059725    -0.052924  0.100200  \n",
       "Aspect_Ratio      0.051779     0.069905     0.120274 -0.581469  \n",
       "Roundness         0.368428     0.277583     0.067315  0.105768  \n",
       "Compactness       0.047176     0.001521    -0.076370  0.624939  \n",
       "Shapefactor_1    -0.142430    -0.062233     0.090543 -0.615513  \n",
       "Shapefactor_2    -0.248412    -0.168432    -0.038276 -0.126188  \n",
       "Shapefactor_3     0.047270     0.004140    -0.070763  0.626304  \n",
       "Shapefactor_4     0.236131     0.163063     0.078953  0.063084  \n",
       "Mean_RR           0.320163     0.174487    -0.215990  0.332455  \n",
       "Mean_RG           0.365236     0.206379    -0.220282  0.292409  \n",
       "Mean_RB           0.327407     0.200808    -0.170113  0.229117  \n",
       "StdDev_RR        -0.400620    -0.444734    -0.521137 -0.148107  \n",
       "StdDev_RG        -0.406774    -0.470141    -0.539765 -0.098064  \n",
       "StdDev_RB        -0.303941    -0.372058    -0.371498 -0.217357  \n",
       "Skew_RR          -0.598382    -0.443163    -0.042926 -0.317073  \n",
       "Skew_RG          -0.475185    -0.359229     0.008422 -0.337884  \n",
       "Skew_RB          -0.146524    -0.037507     0.150305 -0.200009  \n",
       "Kurtosis_RR       1.000000     0.942929     0.547662  0.155714  \n",
       "Kurtosis_RG       0.942929     1.000000     0.676673  0.084705  \n",
       "Kurtosis_RB       0.547662     0.676673     1.000000 -0.051275  \n",
       "Class             0.155714     0.084705    -0.051275  1.000000  \n",
       "\n",
       "[29 rows x 29 columns]"
      ]
     },
     "execution_count": 16,
     "metadata": {},
     "output_type": "execute_result"
    }
   ],
   "source": [
    "data.corr()"
   ]
  },
  {
   "cell_type": "code",
   "execution_count": 17,
   "id": "df7396b5",
   "metadata": {
    "execution": {
     "iopub.execute_input": "2023-12-17T20:18:02.359012Z",
     "iopub.status.busy": "2023-12-17T20:18:02.358329Z",
     "iopub.status.idle": "2023-12-17T20:18:04.896419Z",
     "shell.execute_reply": "2023-12-17T20:18:04.895297Z"
    },
    "papermill": {
     "duration": 2.575694,
     "end_time": "2023-12-17T20:18:04.905021",
     "exception": false,
     "start_time": "2023-12-17T20:18:02.329327",
     "status": "completed"
    },
    "tags": []
   },
   "outputs": [
    {
     "data": {
      "image/png": "[encoded data removed]",
      "text/plain": [
       "<Figure size 1200x1200 with 2 Axes>"
      ]
     },
     "metadata": {},
     "output_type": "display_data"
    }
   ],
   "source": [
    "#data.corr #corelasyon matrisi\n",
    "plt.figure(figsize=(12,12))\n",
    "sns.heatmap(data.corr(), annot=True, cmap=plt.cm.Purples)\n",
    "plt.show()"
   ]
  },
  {
   "cell_type": "code",
   "execution_count": 18,
   "id": "9a7fba11",
   "metadata": {
    "execution": {
     "iopub.execute_input": "2023-12-17T20:18:04.978227Z",
     "iopub.status.busy": "2023-12-17T20:18:04.977401Z",
     "iopub.status.idle": "2023-12-17T20:18:04.994311Z",
     "shell.execute_reply": "2023-12-17T20:18:04.993003Z"
    },
    "papermill": {
     "duration": 0.056867,
     "end_time": "2023-12-17T20:18:04.997225",
     "exception": false,
     "start_time": "2023-12-17T20:18:04.940358",
     "status": "completed"
    },
    "tags": []
   },
   "outputs": [],
   "source": [
    "data = data.drop_duplicates()"
   ]
  },
  {
   "cell_type": "code",
   "execution_count": 19,
   "id": "286db089",
   "metadata": {
    "ExecuteTime": {
     "end_time": "2023-10-22T19:05:09.789232400Z",
     "start_time": "2023-10-22T19:05:09.586081400Z"
    },
    "execution": {
     "iopub.execute_input": "2023-12-17T20:18:05.071874Z",
     "iopub.status.busy": "2023-12-17T20:18:05.071103Z",
     "iopub.status.idle": "2023-12-17T20:18:05.077840Z",
     "shell.execute_reply": "2023-12-17T20:18:05.076587Z"
    },
    "papermill": {
     "duration": 0.046333,
     "end_time": "2023-12-17T20:18:05.080341",
     "exception": false,
     "start_time": "2023-12-17T20:18:05.034008",
     "status": "completed"
    },
    "tags": []
   },
   "outputs": [],
   "source": [
    "x = data.iloc[:,0:28]#bağımsız değişken\n",
    "y = data.iloc[:,28:]#bağımlı değişken,tahmin değeri,class"
   ]
  },
  {
   "cell_type": "code",
   "execution_count": 20,
   "id": "594ef4db",
   "metadata": {
    "ExecuteTime": {
     "end_time": "2023-10-22T19:05:09.791760600Z",
     "start_time": "2023-10-22T19:05:09.596866800Z"
    },
    "execution": {
     "iopub.execute_input": "2023-12-17T20:18:05.154333Z",
     "iopub.status.busy": "2023-12-17T20:18:05.153893Z",
     "iopub.status.idle": "2023-12-17T20:18:05.165509Z",
     "shell.execute_reply": "2023-12-17T20:18:05.164336Z"
    },
    "papermill": {
     "duration": 0.051225,
     "end_time": "2023-12-17T20:18:05.167746",
     "exception": false,
     "start_time": "2023-12-17T20:18:05.116521",
     "status": "completed"
    },
    "tags": []
   },
   "outputs": [
    {
     "data": {
      "text/html": [
       "<div>\n",
       "<style scoped>\n",
       "    .dataframe tbody tr th:only-of-type {\n",
       "        vertical-align: middle;\n",
       "    }\n",
       "\n",
       "    .dataframe tbody tr th {\n",
       "        vertical-align: top;\n",
       "    }\n",
       "\n",
       "    .dataframe thead th {\n",
       "        text-align: right;\n",
       "    }\n",
       "</style>\n",
       "<table border=\"1\" class=\"dataframe\">\n",
       "  <thead>\n",
       "    <tr style=\"text-align: right;\">\n",
       "      <th></th>\n",
       "      <th>Class</th>\n",
       "    </tr>\n",
       "  </thead>\n",
       "  <tbody>\n",
       "    <tr>\n",
       "      <th>0</th>\n",
       "      <td>0</td>\n",
       "    </tr>\n",
       "    <tr>\n",
       "      <th>1</th>\n",
       "      <td>0</td>\n",
       "    </tr>\n",
       "    <tr>\n",
       "      <th>2</th>\n",
       "      <td>0</td>\n",
       "    </tr>\n",
       "    <tr>\n",
       "      <th>3</th>\n",
       "      <td>0</td>\n",
       "    </tr>\n",
       "    <tr>\n",
       "      <th>4</th>\n",
       "      <td>0</td>\n",
       "    </tr>\n",
       "    <tr>\n",
       "      <th>...</th>\n",
       "      <td>...</td>\n",
       "    </tr>\n",
       "    <tr>\n",
       "      <th>2143</th>\n",
       "      <td>1</td>\n",
       "    </tr>\n",
       "    <tr>\n",
       "      <th>2144</th>\n",
       "      <td>1</td>\n",
       "    </tr>\n",
       "    <tr>\n",
       "      <th>2145</th>\n",
       "      <td>1</td>\n",
       "    </tr>\n",
       "    <tr>\n",
       "      <th>2146</th>\n",
       "      <td>1</td>\n",
       "    </tr>\n",
       "    <tr>\n",
       "      <th>2147</th>\n",
       "      <td>1</td>\n",
       "    </tr>\n",
       "  </tbody>\n",
       "</table>\n",
       "<p>2148 rows × 1 columns</p>\n",
       "</div>"
      ],
      "text/plain": [
       "      Class\n",
       "0         0\n",
       "1         0\n",
       "2         0\n",
       "3         0\n",
       "4         0\n",
       "...     ...\n",
       "2143      1\n",
       "2144      1\n",
       "2145      1\n",
       "2146      1\n",
       "2147      1\n",
       "\n",
       "[2148 rows x 1 columns]"
      ]
     },
     "execution_count": 20,
     "metadata": {},
     "output_type": "execute_result"
    }
   ],
   "source": [
    "y"
   ]
  },
  {
   "cell_type": "code",
   "execution_count": 21,
   "id": "b593e924",
   "metadata": {
    "ExecuteTime": {
     "end_time": "2023-10-22T19:05:09.864377500Z",
     "start_time": "2023-10-22T19:05:09.609702900Z"
    },
    "execution": {
     "iopub.execute_input": "2023-12-17T20:18:05.240895Z",
     "iopub.status.busy": "2023-12-17T20:18:05.240237Z",
     "iopub.status.idle": "2023-12-17T20:18:05.278334Z",
     "shell.execute_reply": "2023-12-17T20:18:05.277187Z"
    },
    "papermill": {
     "duration": 0.077601,
     "end_time": "2023-12-17T20:18:05.280723",
     "exception": false,
     "start_time": "2023-12-17T20:18:05.203122",
     "status": "completed"
    },
    "tags": []
   },
   "outputs": [
    {
     "data": {
      "text/html": [
       "<div>\n",
       "<style scoped>\n",
       "    .dataframe tbody tr th:only-of-type {\n",
       "        vertical-align: middle;\n",
       "    }\n",
       "\n",
       "    .dataframe tbody tr th {\n",
       "        vertical-align: top;\n",
       "    }\n",
       "\n",
       "    .dataframe thead th {\n",
       "        text-align: right;\n",
       "    }\n",
       "</style>\n",
       "<table border=\"1\" class=\"dataframe\">\n",
       "  <thead>\n",
       "    <tr style=\"text-align: right;\">\n",
       "      <th></th>\n",
       "      <th>Area</th>\n",
       "      <th>Perimeter</th>\n",
       "      <th>Major_Axis</th>\n",
       "      <th>Minor_Axis</th>\n",
       "      <th>Eccentricity</th>\n",
       "      <th>Eqdiasq</th>\n",
       "      <th>Solidity</th>\n",
       "      <th>Convex_Area</th>\n",
       "      <th>Extent</th>\n",
       "      <th>Aspect_Ratio</th>\n",
       "      <th>...</th>\n",
       "      <th>Mean_RB</th>\n",
       "      <th>StdDev_RR</th>\n",
       "      <th>StdDev_RG</th>\n",
       "      <th>StdDev_RB</th>\n",
       "      <th>Skew_RR</th>\n",
       "      <th>Skew_RG</th>\n",
       "      <th>Skew_RB</th>\n",
       "      <th>Kurtosis_RR</th>\n",
       "      <th>Kurtosis_RG</th>\n",
       "      <th>Kurtosis_RB</th>\n",
       "    </tr>\n",
       "  </thead>\n",
       "  <tbody>\n",
       "    <tr>\n",
       "      <th>0</th>\n",
       "      <td>63391</td>\n",
       "      <td>1568.4050</td>\n",
       "      <td>390.3396</td>\n",
       "      <td>236.7461</td>\n",
       "      <td>0.7951</td>\n",
       "      <td>284.0984</td>\n",
       "      <td>0.8665</td>\n",
       "      <td>73160</td>\n",
       "      <td>0.6394</td>\n",
       "      <td>1.6488</td>\n",
       "      <td>...</td>\n",
       "      <td>165.3167</td>\n",
       "      <td>17.7206</td>\n",
       "      <td>19.6024</td>\n",
       "      <td>21.1342</td>\n",
       "      <td>0.4581</td>\n",
       "      <td>0.6635</td>\n",
       "      <td>0.7591</td>\n",
       "      <td>2.9692</td>\n",
       "      <td>3.0576</td>\n",
       "      <td>2.9542</td>\n",
       "    </tr>\n",
       "    <tr>\n",
       "      <th>1</th>\n",
       "      <td>68358</td>\n",
       "      <td>1942.1870</td>\n",
       "      <td>410.8594</td>\n",
       "      <td>234.7525</td>\n",
       "      <td>0.8207</td>\n",
       "      <td>295.0188</td>\n",
       "      <td>0.8765</td>\n",
       "      <td>77991</td>\n",
       "      <td>0.6772</td>\n",
       "      <td>1.7502</td>\n",
       "      <td>...</td>\n",
       "      <td>187.3744</td>\n",
       "      <td>26.7061</td>\n",
       "      <td>27.2112</td>\n",
       "      <td>25.1035</td>\n",
       "      <td>-0.3847</td>\n",
       "      <td>-0.2713</td>\n",
       "      <td>-0.2927</td>\n",
       "      <td>1.9807</td>\n",
       "      <td>2.1006</td>\n",
       "      <td>2.2152</td>\n",
       "    </tr>\n",
       "    <tr>\n",
       "      <th>2</th>\n",
       "      <td>73589</td>\n",
       "      <td>1246.5380</td>\n",
       "      <td>452.3630</td>\n",
       "      <td>220.5547</td>\n",
       "      <td>0.8731</td>\n",
       "      <td>306.0987</td>\n",
       "      <td>0.9172</td>\n",
       "      <td>80234</td>\n",
       "      <td>0.7127</td>\n",
       "      <td>2.0510</td>\n",
       "      <td>...</td>\n",
       "      <td>187.7118</td>\n",
       "      <td>19.0129</td>\n",
       "      <td>20.0703</td>\n",
       "      <td>20.7006</td>\n",
       "      <td>-0.6014</td>\n",
       "      <td>-0.4500</td>\n",
       "      <td>0.2998</td>\n",
       "      <td>3.5420</td>\n",
       "      <td>3.6856</td>\n",
       "      <td>4.1012</td>\n",
       "    </tr>\n",
       "    <tr>\n",
       "      <th>3</th>\n",
       "      <td>71106</td>\n",
       "      <td>1445.2610</td>\n",
       "      <td>429.5291</td>\n",
       "      <td>216.0765</td>\n",
       "      <td>0.8643</td>\n",
       "      <td>300.8903</td>\n",
       "      <td>0.9589</td>\n",
       "      <td>74153</td>\n",
       "      <td>0.7028</td>\n",
       "      <td>1.9879</td>\n",
       "      <td>...</td>\n",
       "      <td>187.9537</td>\n",
       "      <td>18.1773</td>\n",
       "      <td>18.7152</td>\n",
       "      <td>29.7883</td>\n",
       "      <td>-0.6943</td>\n",
       "      <td>-0.6278</td>\n",
       "      <td>-0.7798</td>\n",
       "      <td>2.8776</td>\n",
       "      <td>2.8748</td>\n",
       "      <td>2.8953</td>\n",
       "    </tr>\n",
       "    <tr>\n",
       "      <th>4</th>\n",
       "      <td>80087</td>\n",
       "      <td>1251.5240</td>\n",
       "      <td>469.3783</td>\n",
       "      <td>220.9344</td>\n",
       "      <td>0.8823</td>\n",
       "      <td>319.3273</td>\n",
       "      <td>0.9657</td>\n",
       "      <td>82929</td>\n",
       "      <td>0.7459</td>\n",
       "      <td>2.1245</td>\n",
       "      <td>...</td>\n",
       "      <td>194.4906</td>\n",
       "      <td>23.4298</td>\n",
       "      <td>24.0878</td>\n",
       "      <td>23.1157</td>\n",
       "      <td>-0.9287</td>\n",
       "      <td>-0.8134</td>\n",
       "      <td>-0.4970</td>\n",
       "      <td>2.9915</td>\n",
       "      <td>2.8813</td>\n",
       "      <td>2.7362</td>\n",
       "    </tr>\n",
       "    <tr>\n",
       "      <th>...</th>\n",
       "      <td>...</td>\n",
       "      <td>...</td>\n",
       "      <td>...</td>\n",
       "      <td>...</td>\n",
       "      <td>...</td>\n",
       "      <td>...</td>\n",
       "      <td>...</td>\n",
       "      <td>...</td>\n",
       "      <td>...</td>\n",
       "      <td>...</td>\n",
       "      <td>...</td>\n",
       "      <td>...</td>\n",
       "      <td>...</td>\n",
       "      <td>...</td>\n",
       "      <td>...</td>\n",
       "      <td>...</td>\n",
       "      <td>...</td>\n",
       "      <td>...</td>\n",
       "      <td>...</td>\n",
       "      <td>...</td>\n",
       "      <td>...</td>\n",
       "    </tr>\n",
       "    <tr>\n",
       "      <th>2143</th>\n",
       "      <td>85983</td>\n",
       "      <td>1157.1160</td>\n",
       "      <td>444.3447</td>\n",
       "      <td>248.8627</td>\n",
       "      <td>0.8284</td>\n",
       "      <td>330.8730</td>\n",
       "      <td>0.9823</td>\n",
       "      <td>87536</td>\n",
       "      <td>0.6799</td>\n",
       "      <td>1.7855</td>\n",
       "      <td>...</td>\n",
       "      <td>167.9611</td>\n",
       "      <td>20.8474</td>\n",
       "      <td>20.8118</td>\n",
       "      <td>21.1175</td>\n",
       "      <td>-0.6994</td>\n",
       "      <td>-0.7071</td>\n",
       "      <td>-0.6963</td>\n",
       "      <td>2.8853</td>\n",
       "      <td>2.6599</td>\n",
       "      <td>2.6317</td>\n",
       "    </tr>\n",
       "    <tr>\n",
       "      <th>2144</th>\n",
       "      <td>85691</td>\n",
       "      <td>2327.3459</td>\n",
       "      <td>439.8794</td>\n",
       "      <td>278.9297</td>\n",
       "      <td>0.7732</td>\n",
       "      <td>330.3107</td>\n",
       "      <td>0.8886</td>\n",
       "      <td>96439</td>\n",
       "      <td>0.6590</td>\n",
       "      <td>1.5770</td>\n",
       "      <td>...</td>\n",
       "      <td>176.5908</td>\n",
       "      <td>21.2621</td>\n",
       "      <td>22.5004</td>\n",
       "      <td>21.5821</td>\n",
       "      <td>-0.5567</td>\n",
       "      <td>-0.4968</td>\n",
       "      <td>-0.6597</td>\n",
       "      <td>2.3022</td>\n",
       "      <td>2.2664</td>\n",
       "      <td>2.5161</td>\n",
       "    </tr>\n",
       "    <tr>\n",
       "      <th>2145</th>\n",
       "      <td>101136</td>\n",
       "      <td>1255.6190</td>\n",
       "      <td>475.2161</td>\n",
       "      <td>271.3299</td>\n",
       "      <td>0.8210</td>\n",
       "      <td>358.8459</td>\n",
       "      <td>0.9888</td>\n",
       "      <td>102286</td>\n",
       "      <td>0.7584</td>\n",
       "      <td>1.7514</td>\n",
       "      <td>...</td>\n",
       "      <td>176.3508</td>\n",
       "      <td>21.1262</td>\n",
       "      <td>20.0279</td>\n",
       "      <td>17.4401</td>\n",
       "      <td>-0.9072</td>\n",
       "      <td>-0.8790</td>\n",
       "      <td>-0.4470</td>\n",
       "      <td>3.3112</td>\n",
       "      <td>3.4306</td>\n",
       "      <td>3.0697</td>\n",
       "    </tr>\n",
       "    <tr>\n",
       "      <th>2146</th>\n",
       "      <td>97409</td>\n",
       "      <td>1195.2150</td>\n",
       "      <td>452.1823</td>\n",
       "      <td>274.5764</td>\n",
       "      <td>0.7945</td>\n",
       "      <td>352.1718</td>\n",
       "      <td>0.9902</td>\n",
       "      <td>98376</td>\n",
       "      <td>0.7635</td>\n",
       "      <td>1.6468</td>\n",
       "      <td>...</td>\n",
       "      <td>180.9608</td>\n",
       "      <td>19.3274</td>\n",
       "      <td>19.1782</td>\n",
       "      <td>19.8930</td>\n",
       "      <td>-0.9473</td>\n",
       "      <td>-0.8404</td>\n",
       "      <td>-0.3153</td>\n",
       "      <td>3.4237</td>\n",
       "      <td>2.9606</td>\n",
       "      <td>3.0033</td>\n",
       "    </tr>\n",
       "    <tr>\n",
       "      <th>2147</th>\n",
       "      <td>78466</td>\n",
       "      <td>2356.9080</td>\n",
       "      <td>445.9131</td>\n",
       "      <td>258.5125</td>\n",
       "      <td>0.8148</td>\n",
       "      <td>316.0791</td>\n",
       "      <td>0.8662</td>\n",
       "      <td>90591</td>\n",
       "      <td>0.6123</td>\n",
       "      <td>1.7249</td>\n",
       "      <td>...</td>\n",
       "      <td>191.3417</td>\n",
       "      <td>24.5451</td>\n",
       "      <td>25.9279</td>\n",
       "      <td>24.4214</td>\n",
       "      <td>-0.7993</td>\n",
       "      <td>-0.5962</td>\n",
       "      <td>-0.3492</td>\n",
       "      <td>2.5278</td>\n",
       "      <td>2.2248</td>\n",
       "      <td>2.4480</td>\n",
       "    </tr>\n",
       "  </tbody>\n",
       "</table>\n",
       "<p>2148 rows × 28 columns</p>\n",
       "</div>"
      ],
      "text/plain": [
       "        Area  Perimeter  Major_Axis  Minor_Axis  Eccentricity   Eqdiasq  \\\n",
       "0      63391  1568.4050    390.3396    236.7461        0.7951  284.0984   \n",
       "1      68358  1942.1870    410.8594    234.7525        0.8207  295.0188   \n",
       "2      73589  1246.5380    452.3630    220.5547        0.8731  306.0987   \n",
       "3      71106  1445.2610    429.5291    216.0765        0.8643  300.8903   \n",
       "4      80087  1251.5240    469.3783    220.9344        0.8823  319.3273   \n",
       "...      ...        ...         ...         ...           ...       ...   \n",
       "2143   85983  1157.1160    444.3447    248.8627        0.8284  330.8730   \n",
       "2144   85691  2327.3459    439.8794    278.9297        0.7732  330.3107   \n",
       "2145  101136  1255.6190    475.2161    271.3299        0.8210  358.8459   \n",
       "2146   97409  1195.2150    452.1823    274.5764        0.7945  352.1718   \n",
       "2147   78466  2356.9080    445.9131    258.5125        0.8148  316.0791   \n",
       "\n",
       "      Solidity  Convex_Area  Extent  Aspect_Ratio  ...   Mean_RB  StdDev_RR  \\\n",
       "0       0.8665        73160  0.6394        1.6488  ...  165.3167    17.7206   \n",
       "1       0.8765        77991  0.6772        1.7502  ...  187.3744    26.7061   \n",
       "2       0.9172        80234  0.7127        2.0510  ...  187.7118    19.0129   \n",
       "3       0.9589        74153  0.7028        1.9879  ...  187.9537    18.1773   \n",
       "4       0.9657        82929  0.7459        2.1245  ...  194.4906    23.4298   \n",
       "...        ...          ...     ...           ...  ...       ...        ...   \n",
       "2143    0.9823        87536  0.6799        1.7855  ...  167.9611    20.8474   \n",
       "2144    0.8886        96439  0.6590        1.5770  ...  176.5908    21.2621   \n",
       "2145    0.9888       102286  0.7584        1.7514  ...  176.3508    21.1262   \n",
       "2146    0.9902        98376  0.7635        1.6468  ...  180.9608    19.3274   \n",
       "2147    0.8662        90591  0.6123        1.7249  ...  191.3417    24.5451   \n",
       "\n",
       "      StdDev_RG  StdDev_RB  Skew_RR  Skew_RG  Skew_RB  Kurtosis_RR  \\\n",
       "0       19.6024    21.1342   0.4581   0.6635   0.7591       2.9692   \n",
       "1       27.2112    25.1035  -0.3847  -0.2713  -0.2927       1.9807   \n",
       "2       20.0703    20.7006  -0.6014  -0.4500   0.2998       3.5420   \n",
       "3       18.7152    29.7883  -0.6943  -0.6278  -0.7798       2.8776   \n",
       "4       24.0878    23.1157  -0.9287  -0.8134  -0.4970       2.9915   \n",
       "...         ...        ...      ...      ...      ...          ...   \n",
       "2143    20.8118    21.1175  -0.6994  -0.7071  -0.6963       2.8853   \n",
       "2144    22.5004    21.5821  -0.5567  -0.4968  -0.6597       2.3022   \n",
       "2145    20.0279    17.4401  -0.9072  -0.8790  -0.4470       3.3112   \n",
       "2146    19.1782    19.8930  -0.9473  -0.8404  -0.3153       3.4237   \n",
       "2147    25.9279    24.4214  -0.7993  -0.5962  -0.3492       2.5278   \n",
       "\n",
       "      Kurtosis_RG  Kurtosis_RB  \n",
       "0          3.0576       2.9542  \n",
       "1          2.1006       2.2152  \n",
       "2          3.6856       4.1012  \n",
       "3          2.8748       2.8953  \n",
       "4          2.8813       2.7362  \n",
       "...           ...          ...  \n",
       "2143       2.6599       2.6317  \n",
       "2144       2.2664       2.5161  \n",
       "2145       3.4306       3.0697  \n",
       "2146       2.9606       3.0033  \n",
       "2147       2.2248       2.4480  \n",
       "\n",
       "[2148 rows x 28 columns]"
      ]
     },
     "execution_count": 21,
     "metadata": {},
     "output_type": "execute_result"
    }
   ],
   "source": [
    "x"
   ]
  },
  {
   "cell_type": "code",
   "execution_count": 22,
   "id": "12beac8b",
   "metadata": {
    "ExecuteTime": {
     "end_time": "2023-10-22T19:05:09.865378600Z",
     "start_time": "2023-10-22T19:05:09.636823700Z"
    },
    "execution": {
     "iopub.execute_input": "2023-12-17T20:18:05.356610Z",
     "iopub.status.busy": "2023-12-17T20:18:05.356206Z",
     "iopub.status.idle": "2023-12-17T20:18:05.363684Z",
     "shell.execute_reply": "2023-12-17T20:18:05.362789Z"
    },
    "papermill": {
     "duration": 0.047494,
     "end_time": "2023-12-17T20:18:05.365894",
     "exception": false,
     "start_time": "2023-12-17T20:18:05.318400",
     "status": "completed"
    },
    "tags": []
   },
   "outputs": [],
   "source": [
    "x_train, x_test, y_train, y_test = train_test_split(x,y,test_size = 0.33, random_state = 42)"
   ]
  },
  {
   "cell_type": "code",
   "execution_count": 23,
   "id": "36755b4a",
   "metadata": {
    "ExecuteTime": {
     "end_time": "2023-10-22T19:05:09.866375Z",
     "start_time": "2023-10-22T19:05:09.646306400Z"
    },
    "execution": {
     "iopub.execute_input": "2023-12-17T20:18:05.441302Z",
     "iopub.status.busy": "2023-12-17T20:18:05.440611Z",
     "iopub.status.idle": "2023-12-17T20:18:05.454644Z",
     "shell.execute_reply": "2023-12-17T20:18:05.453529Z"
    },
    "papermill": {
     "duration": 0.055686,
     "end_time": "2023-12-17T20:18:05.457796",
     "exception": false,
     "start_time": "2023-12-17T20:18:05.402110",
     "status": "completed"
    },
    "tags": []
   },
   "outputs": [],
   "source": [
    "standardscaler = StandardScaler()\n",
    "x_train = standardscaler.fit_transform(x_train)\n",
    "x_test = standardscaler.transform(x_test)"
   ]
  },
  {
   "cell_type": "markdown",
   "id": "320ccc18",
   "metadata": {
    "papermill": {
     "duration": 0.03625,
     "end_time": "2023-12-17T20:18:05.530889",
     "exception": false,
     "start_time": "2023-12-17T20:18:05.494639",
     "status": "completed"
    },
    "tags": []
   },
   "source": [
    "# KNN "
   ]
  },
  {
   "cell_type": "code",
   "execution_count": 24,
   "id": "16e5f8cd",
   "metadata": {
    "ExecuteTime": {
     "end_time": "2023-10-22T19:05:09.876889700Z",
     "start_time": "2023-10-22T19:05:09.662544500Z"
    },
    "execution": {
     "iopub.execute_input": "2023-12-17T20:18:05.606205Z",
     "iopub.status.busy": "2023-12-17T20:18:05.605777Z",
     "iopub.status.idle": "2023-12-17T20:18:05.735392Z",
     "shell.execute_reply": "2023-12-17T20:18:05.734230Z"
    },
    "papermill": {
     "duration": 0.170025,
     "end_time": "2023-12-17T20:18:05.738044",
     "exception": false,
     "start_time": "2023-12-17T20:18:05.568019",
     "status": "completed"
    },
    "tags": []
   },
   "outputs": [],
   "source": [
    "knn = KNeighborsClassifier(n_neighbors = 35,metric = 'manhattan')\n",
    "knn.fit(x_train,y_train.values.ravel())\n",
    "y_predict = knn.predict(x_test)"
   ]
  },
  {
   "cell_type": "code",
   "execution_count": 25,
   "id": "0fdfe32b",
   "metadata": {
    "execution": {
     "iopub.execute_input": "2023-12-17T20:18:05.812902Z",
     "iopub.status.busy": "2023-12-17T20:18:05.812506Z",
     "iopub.status.idle": "2023-12-17T20:18:05.824664Z",
     "shell.execute_reply": "2023-12-17T20:18:05.823774Z"
    },
    "papermill": {
     "duration": 0.052149,
     "end_time": "2023-12-17T20:18:05.826721",
     "exception": false,
     "start_time": "2023-12-17T20:18:05.774572",
     "status": "completed"
    },
    "tags": []
   },
   "outputs": [
    {
     "data": {
      "text/plain": [
       "0.9055007052186178"
      ]
     },
     "execution_count": 25,
     "metadata": {},
     "output_type": "execute_result"
    }
   ],
   "source": [
    "accuracy = accuracy_score(y_test,y_predict)\n",
    "accuracy"
   ]
  },
  {
   "cell_type": "code",
   "execution_count": 26,
   "id": "f9818d37",
   "metadata": {
    "execution": {
     "iopub.execute_input": "2023-12-17T20:18:05.905940Z",
     "iopub.status.busy": "2023-12-17T20:18:05.905241Z",
     "iopub.status.idle": "2023-12-17T20:18:05.916994Z",
     "shell.execute_reply": "2023-12-17T20:18:05.915851Z"
    },
    "papermill": {
     "duration": 0.054501,
     "end_time": "2023-12-17T20:18:05.919651",
     "exception": false,
     "start_time": "2023-12-17T20:18:05.865150",
     "status": "completed"
    },
    "tags": []
   },
   "outputs": [
    {
     "data": {
      "text/plain": [
       "array([[378,  37],\n",
       "       [ 30, 264]], dtype=int64)"
      ]
     },
     "execution_count": 26,
     "metadata": {},
     "output_type": "execute_result"
    }
   ],
   "source": [
    "cm = confusion_matrix(y_test,y_predict)\n",
    "cm"
   ]
  },
  {
   "cell_type": "code",
   "execution_count": 27,
   "id": "59795aa7",
   "metadata": {},
   "outputs": [],
   "source": [
    "knn = KNeighborsClassifier(n_neighbors = 35,metric = 'minkowski')\n",
    "knn.fit(x_train,y_train.values.ravel())\n",
    "y_predict = knn.predict(x_test)"
   ]
  },
  {
   "cell_type": "code",
   "execution_count": 28,
   "id": "f8fda8f8",
   "metadata": {},
   "outputs": [
    {
     "data": {
      "text/plain": [
       "0.9040902679830748"
      ]
     },
     "execution_count": 28,
     "metadata": {},
     "output_type": "execute_result"
    }
   ],
   "source": [
    "accuracy = accuracy_score(y_test,y_predict)\n",
    "accuracy"
   ]
  },
  {
   "cell_type": "code",
   "execution_count": 29,
   "id": "09162ec4",
   "metadata": {},
   "outputs": [
    {
     "data": {
      "text/plain": [
       "array([[378,  37],\n",
       "       [ 31, 263]], dtype=int64)"
      ]
     },
     "execution_count": 29,
     "metadata": {},
     "output_type": "execute_result"
    }
   ],
   "source": [
    "cm = confusion_matrix(y_test,y_predict)\n",
    "cm"
   ]
  },
  {
   "cell_type": "markdown",
   "id": "e2b718d9",
   "metadata": {
    "papermill": {
     "duration": 0.03692,
     "end_time": "2023-12-17T20:18:05.993522",
     "exception": false,
     "start_time": "2023-12-17T20:18:05.956602",
     "status": "completed"
    },
    "tags": []
   },
   "source": [
    "# GAUSSİANNAİVEBAYES"
   ]
  },
  {
   "cell_type": "code",
   "execution_count": 30,
   "id": "d4890f6d",
   "metadata": {
    "execution": {
     "iopub.execute_input": "2023-12-17T20:18:06.068671Z",
     "iopub.status.busy": "2023-12-17T20:18:06.068273Z",
     "iopub.status.idle": "2023-12-17T20:18:06.077209Z",
     "shell.execute_reply": "2023-12-17T20:18:06.076216Z"
    },
    "papermill": {
     "duration": 0.049532,
     "end_time": "2023-12-17T20:18:06.079744",
     "exception": false,
     "start_time": "2023-12-17T20:18:06.030212",
     "status": "completed"
    },
    "tags": []
   },
   "outputs": [],
   "source": [
    "gnb = GaussianNB()\n",
    "gnb.fit(x_train,y_train.values.ravel())\n",
    "y_predict = gnb.predict(x_test)"
   ]
  },
  {
   "cell_type": "code",
   "execution_count": 31,
   "id": "73a74398",
   "metadata": {
    "execution": {
     "iopub.execute_input": "2023-12-17T20:18:06.155912Z",
     "iopub.status.busy": "2023-12-17T20:18:06.155246Z",
     "iopub.status.idle": "2023-12-17T20:18:06.166763Z",
     "shell.execute_reply": "2023-12-17T20:18:06.165589Z"
    },
    "papermill": {
     "duration": 0.052243,
     "end_time": "2023-12-17T20:18:06.169161",
     "exception": false,
     "start_time": "2023-12-17T20:18:06.116918",
     "status": "completed"
    },
    "tags": []
   },
   "outputs": [
    {
     "data": {
      "text/plain": [
       "0.8730606488011283"
      ]
     },
     "execution_count": 31,
     "metadata": {},
     "output_type": "execute_result"
    }
   ],
   "source": [
    "accuracy = accuracy_score(y_test,y_predict)\n",
    "accuracy"
   ]
  },
  {
   "cell_type": "code",
   "execution_count": 32,
   "id": "ad453dc4",
   "metadata": {
    "execution": {
     "iopub.execute_input": "2023-12-17T20:18:06.244923Z",
     "iopub.status.busy": "2023-12-17T20:18:06.244099Z",
     "iopub.status.idle": "2023-12-17T20:18:06.256153Z",
     "shell.execute_reply": "2023-12-17T20:18:06.255077Z"
    },
    "papermill": {
     "duration": 0.052738,
     "end_time": "2023-12-17T20:18:06.258512",
     "exception": false,
     "start_time": "2023-12-17T20:18:06.205774",
     "status": "completed"
    },
    "tags": []
   },
   "outputs": [
    {
     "data": {
      "text/plain": [
       "array([[347,  68],\n",
       "       [ 22, 272]], dtype=int64)"
      ]
     },
     "execution_count": 32,
     "metadata": {},
     "output_type": "execute_result"
    }
   ],
   "source": [
    "cm = confusion_matrix(y_test,y_predict)\n",
    "cm"
   ]
  },
  {
   "cell_type": "markdown",
   "id": "6a197321",
   "metadata": {
    "papermill": {
     "duration": 0.038482,
     "end_time": "2023-12-17T20:18:06.334284",
     "exception": false,
     "start_time": "2023-12-17T20:18:06.295802",
     "status": "completed"
    },
    "tags": []
   },
   "source": [
    "# LOGİSTİC REGRESSİON"
   ]
  },
  {
   "cell_type": "code",
   "execution_count": 33,
   "id": "8cab3177",
   "metadata": {
    "execution": {
     "iopub.execute_input": "2023-12-17T20:18:06.411482Z",
     "iopub.status.busy": "2023-12-17T20:18:06.410746Z",
     "iopub.status.idle": "2023-12-17T20:18:06.466705Z",
     "shell.execute_reply": "2023-12-17T20:18:06.465058Z"
    },
    "papermill": {
     "duration": 0.099856,
     "end_time": "2023-12-17T20:18:06.471911",
     "exception": false,
     "start_time": "2023-12-17T20:18:06.372055",
     "status": "completed"
    },
    "tags": []
   },
   "outputs": [],
   "source": [
    "logisticreg = LogisticRegression(random_state=0,solver='lbfgs', max_iter=1000)\n",
    "logisticreg.fit(x_train,y_train.values.ravel())\n",
    "y_predict = logisticreg.predict(x_test)"
   ]
  },
  {
   "cell_type": "code",
   "execution_count": 34,
   "id": "aa91d8d2",
   "metadata": {
    "execution": {
     "iopub.execute_input": "2023-12-17T20:18:06.610620Z",
     "iopub.status.busy": "2023-12-17T20:18:06.610183Z",
     "iopub.status.idle": "2023-12-17T20:18:06.624374Z",
     "shell.execute_reply": "2023-12-17T20:18:06.622952Z"
    },
    "papermill": {
     "duration": 0.074668,
     "end_time": "2023-12-17T20:18:06.627117",
     "exception": false,
     "start_time": "2023-12-17T20:18:06.552449",
     "status": "completed"
    },
    "tags": []
   },
   "outputs": [
    {
     "data": {
      "text/plain": [
       "0.9280677009873061"
      ]
     },
     "execution_count": 34,
     "metadata": {},
     "output_type": "execute_result"
    }
   ],
   "source": [
    "accuracy = accuracy_score(y_test,y_predict)\n",
    "accuracy"
   ]
  },
  {
   "cell_type": "code",
   "execution_count": 35,
   "id": "1801f820",
   "metadata": {
    "execution": {
     "iopub.execute_input": "2023-12-17T20:18:06.706074Z",
     "iopub.status.busy": "2023-12-17T20:18:06.705585Z",
     "iopub.status.idle": "2023-12-17T20:18:06.718684Z",
     "shell.execute_reply": "2023-12-17T20:18:06.717508Z"
    },
    "papermill": {
     "duration": 0.05514,
     "end_time": "2023-12-17T20:18:06.721247",
     "exception": false,
     "start_time": "2023-12-17T20:18:06.666107",
     "status": "completed"
    },
    "tags": []
   },
   "outputs": [
    {
     "data": {
      "text/plain": [
       "array([[382,  33],\n",
       "       [ 18, 276]], dtype=int64)"
      ]
     },
     "execution_count": 35,
     "metadata": {},
     "output_type": "execute_result"
    }
   ],
   "source": [
    "cm = confusion_matrix(y_test,y_predict)\n",
    "cm"
   ]
  },
  {
   "cell_type": "markdown",
   "id": "223b4857",
   "metadata": {
    "papermill": {
     "duration": 0.037848,
     "end_time": "2023-12-17T20:18:06.797621",
     "exception": false,
     "start_time": "2023-12-17T20:18:06.759773",
     "status": "completed"
    },
    "tags": []
   },
   "source": [
    "# SUPPORT VECTOR MACHİNE"
   ]
  },
  {
   "cell_type": "code",
   "execution_count": 36,
   "id": "74715396",
   "metadata": {
    "execution": {
     "iopub.execute_input": "2023-12-17T20:18:06.874492Z",
     "iopub.status.busy": "2023-12-17T20:18:06.874040Z",
     "iopub.status.idle": "2023-12-17T20:18:06.952416Z",
     "shell.execute_reply": "2023-12-17T20:18:06.951361Z"
    },
    "papermill": {
     "duration": 0.119827,
     "end_time": "2023-12-17T20:18:06.955227",
     "exception": false,
     "start_time": "2023-12-17T20:18:06.835400",
     "status": "completed"
    },
    "tags": []
   },
   "outputs": [],
   "source": [
    "supportvector = SVC(kernel=\"rbf\")\n",
    "supportvector.fit(x_train,y_train.values.ravel())\n",
    "y_predict = supportvector.predict(x_test)"
   ]
  },
  {
   "cell_type": "code",
   "execution_count": 37,
   "id": "8bc17ed0",
   "metadata": {
    "execution": {
     "iopub.execute_input": "2023-12-17T20:18:07.032252Z",
     "iopub.status.busy": "2023-12-17T20:18:07.031849Z",
     "iopub.status.idle": "2023-12-17T20:18:07.042652Z",
     "shell.execute_reply": "2023-12-17T20:18:07.041818Z"
    },
    "papermill": {
     "duration": 0.052328,
     "end_time": "2023-12-17T20:18:07.044834",
     "exception": false,
     "start_time": "2023-12-17T20:18:06.992506",
     "status": "completed"
    },
    "tags": []
   },
   "outputs": [
    {
     "data": {
      "text/plain": [
       "0.9365303244005642"
      ]
     },
     "execution_count": 37,
     "metadata": {},
     "output_type": "execute_result"
    }
   ],
   "source": [
    "accuracy = accuracy_score(y_test,y_predict)\n",
    "accuracy"
   ]
  },
  {
   "cell_type": "code",
   "execution_count": 38,
   "id": "48d82a97",
   "metadata": {
    "execution": {
     "iopub.execute_input": "2023-12-17T20:18:07.122809Z",
     "iopub.status.busy": "2023-12-17T20:18:07.122155Z",
     "iopub.status.idle": "2023-12-17T20:18:07.133359Z",
     "shell.execute_reply": "2023-12-17T20:18:07.132198Z"
    },
    "papermill": {
     "duration": 0.053639,
     "end_time": "2023-12-17T20:18:07.135818",
     "exception": false,
     "start_time": "2023-12-17T20:18:07.082179",
     "status": "completed"
    },
    "tags": []
   },
   "outputs": [
    {
     "data": {
      "text/plain": [
       "array([[387,  28],\n",
       "       [ 17, 277]], dtype=int64)"
      ]
     },
     "execution_count": 38,
     "metadata": {},
     "output_type": "execute_result"
    }
   ],
   "source": [
    "cm = confusion_matrix(y_test,y_predict)\n",
    "cm"
   ]
  },
  {
   "cell_type": "markdown",
   "id": "709500dc",
   "metadata": {
    "papermill": {
     "duration": 0.038078,
     "end_time": "2023-12-17T20:18:07.211272",
     "exception": false,
     "start_time": "2023-12-17T20:18:07.173194",
     "status": "completed"
    },
    "tags": []
   },
   "source": [
    "# RANDOM FOREST"
   ]
  },
  {
   "cell_type": "code",
   "execution_count": 39,
   "id": "b30c6ea5",
   "metadata": {
    "execution": {
     "iopub.execute_input": "2023-12-17T20:18:07.290046Z",
     "iopub.status.busy": "2023-12-17T20:18:07.289589Z",
     "iopub.status.idle": "2023-12-17T20:18:07.373432Z",
     "shell.execute_reply": "2023-12-17T20:18:07.372082Z"
    },
    "papermill": {
     "duration": 0.126404,
     "end_time": "2023-12-17T20:18:07.376317",
     "exception": false,
     "start_time": "2023-12-17T20:18:07.249913",
     "status": "completed"
    },
    "tags": []
   },
   "outputs": [],
   "source": [
    "randomforest = RandomForestClassifier(criterion = 'entropy',n_estimators = 10,random_state = 42)\n",
    "randomforest.fit(x_train,y_train.values.ravel())\n",
    "y_predict = randomforest.predict(x_test)"
   ]
  },
  {
   "cell_type": "code",
   "execution_count": 40,
   "id": "05490c36",
   "metadata": {
    "execution": {
     "iopub.execute_input": "2023-12-17T20:18:07.455123Z",
     "iopub.status.busy": "2023-12-17T20:18:07.454164Z",
     "iopub.status.idle": "2023-12-17T20:18:07.465794Z",
     "shell.execute_reply": "2023-12-17T20:18:07.464564Z"
    },
    "papermill": {
     "duration": 0.053754,
     "end_time": "2023-12-17T20:18:07.468493",
     "exception": false,
     "start_time": "2023-12-17T20:18:07.414739",
     "status": "completed"
    },
    "tags": []
   },
   "outputs": [
    {
     "data": {
      "text/plain": [
       "0.8970380818053597"
      ]
     },
     "execution_count": 40,
     "metadata": {},
     "output_type": "execute_result"
    }
   ],
   "source": [
    "accuracy = accuracy_score(y_test,y_predict)\n",
    "accuracy"
   ]
  },
  {
   "cell_type": "code",
   "execution_count": 41,
   "id": "e7bfe5c5",
   "metadata": {
    "execution": {
     "iopub.execute_input": "2023-12-17T20:18:07.548366Z",
     "iopub.status.busy": "2023-12-17T20:18:07.547473Z",
     "iopub.status.idle": "2023-12-17T20:18:07.559981Z",
     "shell.execute_reply": "2023-12-17T20:18:07.558774Z"
    },
    "papermill": {
     "duration": 0.055675,
     "end_time": "2023-12-17T20:18:07.562668",
     "exception": false,
     "start_time": "2023-12-17T20:18:07.506993",
     "status": "completed"
    },
    "tags": []
   },
   "outputs": [
    {
     "data": {
      "text/plain": [
       "array([[385,  30],\n",
       "       [ 43, 251]], dtype=int64)"
      ]
     },
     "execution_count": 41,
     "metadata": {},
     "output_type": "execute_result"
    }
   ],
   "source": [
    "cm = confusion_matrix(y_test,y_predict)\n",
    "cm"
   ]
  },
  {
   "cell_type": "markdown",
   "id": "044bca2a",
   "metadata": {
    "papermill": {
     "duration": 0.038215,
     "end_time": "2023-12-17T20:18:07.638941",
     "exception": false,
     "start_time": "2023-12-17T20:18:07.600726",
     "status": "completed"
    },
    "tags": []
   },
   "source": [
    "# DECİSİON TREE"
   ]
  },
  {
   "cell_type": "code",
   "execution_count": 42,
   "id": "c0335757",
   "metadata": {
    "execution": {
     "iopub.execute_input": "2023-12-17T20:18:07.717854Z",
     "iopub.status.busy": "2023-12-17T20:18:07.717025Z",
     "iopub.status.idle": "2023-12-17T20:18:07.764589Z",
     "shell.execute_reply": "2023-12-17T20:18:07.763367Z"
    },
    "papermill": {
     "duration": 0.090878,
     "end_time": "2023-12-17T20:18:07.767601",
     "exception": false,
     "start_time": "2023-12-17T20:18:07.676723",
     "status": "completed"
    },
    "tags": []
   },
   "outputs": [],
   "source": [
    "decisiontree = DecisionTreeClassifier(criterion = 'entropy',random_state=42)\n",
    "decisiontree.fit(x_train,y_train.values.ravel())\n",
    "y_predict = decisiontree.predict(x_test)"
   ]
  },
  {
   "cell_type": "code",
   "execution_count": 43,
   "id": "59e448a9",
   "metadata": {
    "execution": {
     "iopub.execute_input": "2023-12-17T20:18:07.845465Z",
     "iopub.status.busy": "2023-12-17T20:18:07.845042Z",
     "iopub.status.idle": "2023-12-17T20:18:07.856901Z",
     "shell.execute_reply": "2023-12-17T20:18:07.856022Z"
    },
    "papermill": {
     "duration": 0.053856,
     "end_time": "2023-12-17T20:18:07.859212",
     "exception": false,
     "start_time": "2023-12-17T20:18:07.805356",
     "status": "completed"
    },
    "tags": []
   },
   "outputs": [
    {
     "data": {
      "text/plain": [
       "0.8504936530324401"
      ]
     },
     "execution_count": 43,
     "metadata": {},
     "output_type": "execute_result"
    }
   ],
   "source": [
    "accuracy = accuracy_score(y_test,y_predict)\n",
    "accuracy"
   ]
  },
  {
   "cell_type": "code",
   "execution_count": 44,
   "id": "c55c053e",
   "metadata": {
    "execution": {
     "iopub.execute_input": "2023-12-17T20:18:07.937634Z",
     "iopub.status.busy": "2023-12-17T20:18:07.936475Z",
     "iopub.status.idle": "2023-12-17T20:18:07.947933Z",
     "shell.execute_reply": "2023-12-17T20:18:07.946863Z"
    },
    "papermill": {
     "duration": 0.052992,
     "end_time": "2023-12-17T20:18:07.950124",
     "exception": false,
     "start_time": "2023-12-17T20:18:07.897132",
     "status": "completed"
    },
    "tags": []
   },
   "outputs": [
    {
     "data": {
      "text/plain": [
       "array([[360,  55],\n",
       "       [ 51, 243]], dtype=int64)"
      ]
     },
     "execution_count": 44,
     "metadata": {},
     "output_type": "execute_result"
    }
   ],
   "source": [
    "cm = confusion_matrix(y_test,y_predict)\n",
    "cm"
   ]
  },
  {
   "cell_type": "markdown",
   "id": "e9706e77",
   "metadata": {
    "papermill": {
     "duration": 0.037618,
     "end_time": "2023-12-17T20:18:08.025699",
     "exception": false,
     "start_time": "2023-12-17T20:18:07.988081",
     "status": "completed"
    },
    "tags": []
   },
   "source": [
    "# BOYUT İNDİRGEME"
   ]
  },
  {
   "cell_type": "code",
   "execution_count": 45,
   "id": "1d768f95",
   "metadata": {
    "execution": {
     "iopub.execute_input": "2023-12-17T20:18:08.103856Z",
     "iopub.status.busy": "2023-12-17T20:18:08.103164Z",
     "iopub.status.idle": "2023-12-17T20:18:08.144688Z",
     "shell.execute_reply": "2023-12-17T20:18:08.143208Z"
    },
    "papermill": {
     "duration": 0.085113,
     "end_time": "2023-12-17T20:18:08.148909",
     "exception": false,
     "start_time": "2023-12-17T20:18:08.063796",
     "status": "completed"
    },
    "tags": []
   },
   "outputs": [],
   "source": [
    "pca = PCA(n_components=8)\n",
    "pca.fit(x)\n",
    "x_pca = pca.transform(x)\n",
    "transformed_data = pd.DataFrame(x_pca)"
   ]
  },
  {
   "cell_type": "code",
   "execution_count": 46,
   "id": "2cb191b9",
   "metadata": {
    "execution": {
     "iopub.execute_input": "2023-12-17T20:18:08.310626Z",
     "iopub.status.busy": "2023-12-17T20:18:08.310231Z",
     "iopub.status.idle": "2023-12-17T20:18:08.331687Z",
     "shell.execute_reply": "2023-12-17T20:18:08.330204Z"
    },
    "papermill": {
     "duration": 0.064255,
     "end_time": "2023-12-17T20:18:08.334570",
     "exception": false,
     "start_time": "2023-12-17T20:18:08.270315",
     "status": "completed"
    },
    "tags": []
   },
   "outputs": [
    {
     "data": {
      "text/html": [
       "<div>\n",
       "<style scoped>\n",
       "    .dataframe tbody tr th:only-of-type {\n",
       "        vertical-align: middle;\n",
       "    }\n",
       "\n",
       "    .dataframe tbody tr th {\n",
       "        vertical-align: top;\n",
       "    }\n",
       "\n",
       "    .dataframe thead th {\n",
       "        text-align: right;\n",
       "    }\n",
       "</style>\n",
       "<table border=\"1\" class=\"dataframe\">\n",
       "  <thead>\n",
       "    <tr style=\"text-align: right;\">\n",
       "      <th></th>\n",
       "      <th>0</th>\n",
       "      <th>1</th>\n",
       "      <th>2</th>\n",
       "      <th>3</th>\n",
       "      <th>4</th>\n",
       "      <th>5</th>\n",
       "      <th>6</th>\n",
       "      <th>7</th>\n",
       "    </tr>\n",
       "  </thead>\n",
       "  <tbody>\n",
       "    <tr>\n",
       "      <th>0</th>\n",
       "      <td>20087.392990</td>\n",
       "      <td>3361.672263</td>\n",
       "      <td>58.540363</td>\n",
       "      <td>32.162045</td>\n",
       "      <td>31.614381</td>\n",
       "      <td>-0.903251</td>\n",
       "      <td>0.728175</td>\n",
       "      <td>-4.375548</td>\n",
       "    </tr>\n",
       "    <tr>\n",
       "      <th>1</th>\n",
       "      <td>13157.476096</td>\n",
       "      <td>3286.859643</td>\n",
       "      <td>-288.445708</td>\n",
       "      <td>17.867665</td>\n",
       "      <td>-13.135173</td>\n",
       "      <td>-8.147238</td>\n",
       "      <td>-4.140676</td>\n",
       "      <td>0.379446</td>\n",
       "    </tr>\n",
       "    <tr>\n",
       "      <th>2</th>\n",
       "      <td>7878.939350</td>\n",
       "      <td>1110.617826</td>\n",
       "      <td>240.429368</td>\n",
       "      <td>-20.470919</td>\n",
       "      <td>5.211596</td>\n",
       "      <td>1.611221</td>\n",
       "      <td>1.972310</td>\n",
       "      <td>2.235499</td>\n",
       "    </tr>\n",
       "    <tr>\n",
       "      <th>3</th>\n",
       "      <td>13936.987611</td>\n",
       "      <td>-1394.592180</td>\n",
       "      <td>-214.915415</td>\n",
       "      <td>2.388804</td>\n",
       "      <td>1.877845</td>\n",
       "      <td>-0.231508</td>\n",
       "      <td>-0.325211</td>\n",
       "      <td>-2.711977</td>\n",
       "    </tr>\n",
       "    <tr>\n",
       "      <th>4</th>\n",
       "      <td>1382.171285</td>\n",
       "      <td>-1578.945247</td>\n",
       "      <td>26.096162</td>\n",
       "      <td>-25.582049</td>\n",
       "      <td>-11.589405</td>\n",
       "      <td>-7.698290</td>\n",
       "      <td>0.656765</td>\n",
       "      <td>1.484687</td>\n",
       "    </tr>\n",
       "    <tr>\n",
       "      <th>...</th>\n",
       "      <td>...</td>\n",
       "      <td>...</td>\n",
       "      <td>...</td>\n",
       "      <td>...</td>\n",
       "      <td>...</td>\n",
       "      <td>...</td>\n",
       "      <td>...</td>\n",
       "      <td>...</td>\n",
       "    </tr>\n",
       "    <tr>\n",
       "      <th>2143</th>\n",
       "      <td>-6042.758231</td>\n",
       "      <td>-2508.378321</td>\n",
       "      <td>74.441807</td>\n",
       "      <td>14.169983</td>\n",
       "      <td>26.917582</td>\n",
       "      <td>-15.718092</td>\n",
       "      <td>-0.463216</td>\n",
       "      <td>-1.239350</td>\n",
       "    </tr>\n",
       "    <tr>\n",
       "      <th>2144</th>\n",
       "      <td>-12146.232526</td>\n",
       "      <td>4061.301912</td>\n",
       "      <td>-478.479190</td>\n",
       "      <td>22.284220</td>\n",
       "      <td>14.362039</td>\n",
       "      <td>-6.493060</td>\n",
       "      <td>2.268276</td>\n",
       "      <td>-4.346523</td>\n",
       "    </tr>\n",
       "    <tr>\n",
       "      <th>2145</th>\n",
       "      <td>-27187.249165</td>\n",
       "      <td>-2821.326870</td>\n",
       "      <td>53.570376</td>\n",
       "      <td>7.076525</td>\n",
       "      <td>26.762825</td>\n",
       "      <td>-10.009648</td>\n",
       "      <td>-0.270372</td>\n",
       "      <td>2.786211</td>\n",
       "    </tr>\n",
       "    <tr>\n",
       "      <th>2146</th>\n",
       "      <td>-21786.653918</td>\n",
       "      <td>-2945.893483</td>\n",
       "      <td>75.993363</td>\n",
       "      <td>26.972472</td>\n",
       "      <td>21.315996</td>\n",
       "      <td>-8.347699</td>\n",
       "      <td>0.745864</td>\n",
       "      <td>1.129738</td>\n",
       "    </tr>\n",
       "    <tr>\n",
       "      <th>2147</th>\n",
       "      <td>-2903.802717</td>\n",
       "      <td>5050.234669</td>\n",
       "      <td>-465.559443</td>\n",
       "      <td>1.514294</td>\n",
       "      <td>-4.220440</td>\n",
       "      <td>-0.356796</td>\n",
       "      <td>-0.173346</td>\n",
       "      <td>-5.437612</td>\n",
       "    </tr>\n",
       "  </tbody>\n",
       "</table>\n",
       "<p>2148 rows × 8 columns</p>\n",
       "</div>"
      ],
      "text/plain": [
       "                 0            1           2          3          4          5  \\\n",
       "0     20087.392990  3361.672263   58.540363  32.162045  31.614381  -0.903251   \n",
       "1     13157.476096  3286.859643 -288.445708  17.867665 -13.135173  -8.147238   \n",
       "2      7878.939350  1110.617826  240.429368 -20.470919   5.211596   1.611221   \n",
       "3     13936.987611 -1394.592180 -214.915415   2.388804   1.877845  -0.231508   \n",
       "4      1382.171285 -1578.945247   26.096162 -25.582049 -11.589405  -7.698290   \n",
       "...            ...          ...         ...        ...        ...        ...   \n",
       "2143  -6042.758231 -2508.378321   74.441807  14.169983  26.917582 -15.718092   \n",
       "2144 -12146.232526  4061.301912 -478.479190  22.284220  14.362039  -6.493060   \n",
       "2145 -27187.249165 -2821.326870   53.570376   7.076525  26.762825 -10.009648   \n",
       "2146 -21786.653918 -2945.893483   75.993363  26.972472  21.315996  -8.347699   \n",
       "2147  -2903.802717  5050.234669 -465.559443   1.514294  -4.220440  -0.356796   \n",
       "\n",
       "             6         7  \n",
       "0     0.728175 -4.375548  \n",
       "1    -4.140676  0.379446  \n",
       "2     1.972310  2.235499  \n",
       "3    -0.325211 -2.711977  \n",
       "4     0.656765  1.484687  \n",
       "...        ...       ...  \n",
       "2143 -0.463216 -1.239350  \n",
       "2144  2.268276 -4.346523  \n",
       "2145 -0.270372  2.786211  \n",
       "2146  0.745864  1.129738  \n",
       "2147 -0.173346 -5.437612  \n",
       "\n",
       "[2148 rows x 8 columns]"
      ]
     },
     "execution_count": 46,
     "metadata": {},
     "output_type": "execute_result"
    }
   ],
   "source": [
    "x = transformed_data\n",
    "x"
   ]
  },
  {
   "cell_type": "code",
   "execution_count": 47,
   "id": "eaa50903",
   "metadata": {
    "execution": {
     "iopub.execute_input": "2023-12-17T20:18:08.414706Z",
     "iopub.status.busy": "2023-12-17T20:18:08.414265Z",
     "iopub.status.idle": "2023-12-17T20:18:08.423859Z",
     "shell.execute_reply": "2023-12-17T20:18:08.422422Z"
    },
    "papermill": {
     "duration": 0.0536,
     "end_time": "2023-12-17T20:18:08.426600",
     "exception": false,
     "start_time": "2023-12-17T20:18:08.373000",
     "status": "completed"
    },
    "tags": []
   },
   "outputs": [],
   "source": [
    "x_train, x_test, y_train, y_test = train_test_split(x,y,test_size = 0.33, random_state = 42)"
   ]
  },
  {
   "cell_type": "code",
   "execution_count": 48,
   "id": "f9375bf3",
   "metadata": {
    "execution": {
     "iopub.execute_input": "2023-12-17T20:18:08.507276Z",
     "iopub.status.busy": "2023-12-17T20:18:08.506825Z",
     "iopub.status.idle": "2023-12-17T20:18:08.519071Z",
     "shell.execute_reply": "2023-12-17T20:18:08.517575Z"
    },
    "papermill": {
     "duration": 0.055889,
     "end_time": "2023-12-17T20:18:08.521879",
     "exception": false,
     "start_time": "2023-12-17T20:18:08.465990",
     "status": "completed"
    },
    "tags": []
   },
   "outputs": [],
   "source": [
    "x_train = standardscaler.fit_transform(x_train)\n",
    "x_test = standardscaler.transform(x_test)"
   ]
  },
  {
   "cell_type": "markdown",
   "id": "047598d3",
   "metadata": {
    "papermill": {
     "duration": 0.039102,
     "end_time": "2023-12-17T20:18:08.599985",
     "exception": false,
     "start_time": "2023-12-17T20:18:08.560883",
     "status": "completed"
    },
    "tags": []
   },
   "source": [
    "# KNN BOYUT İNDİRGEME"
   ]
  },
  {
   "cell_type": "code",
   "execution_count": 49,
   "id": "f1a6ce66",
   "metadata": {
    "execution": {
     "iopub.execute_input": "2023-12-17T20:18:08.682619Z",
     "iopub.status.busy": "2023-12-17T20:18:08.682155Z",
     "iopub.status.idle": "2023-12-17T20:18:08.765447Z",
     "shell.execute_reply": "2023-12-17T20:18:08.764128Z"
    },
    "papermill": {
     "duration": 0.128678,
     "end_time": "2023-12-17T20:18:08.768151",
     "exception": false,
     "start_time": "2023-12-17T20:18:08.639473",
     "status": "completed"
    },
    "tags": []
   },
   "outputs": [],
   "source": [
    "knn = KNeighborsClassifier(n_neighbors = 35,metric = 'manhattan')\n",
    "knn.fit(x_train,y_train.values.ravel())\n",
    "y_predict = knn.predict(x_test)"
   ]
  },
  {
   "cell_type": "code",
   "execution_count": 50,
   "id": "1842d598",
   "metadata": {
    "execution": {
     "iopub.execute_input": "2023-12-17T20:18:08.848929Z",
     "iopub.status.busy": "2023-12-17T20:18:08.848477Z",
     "iopub.status.idle": "2023-12-17T20:18:08.860281Z",
     "shell.execute_reply": "2023-12-17T20:18:08.859407Z"
    },
    "papermill": {
     "duration": 0.055086,
     "end_time": "2023-12-17T20:18:08.862686",
     "exception": false,
     "start_time": "2023-12-17T20:18:08.807600",
     "status": "completed"
    },
    "tags": []
   },
   "outputs": [
    {
     "data": {
      "text/plain": [
       "0.8956276445698167"
      ]
     },
     "execution_count": 50,
     "metadata": {},
     "output_type": "execute_result"
    }
   ],
   "source": [
    "accuracy = accuracy_score(y_test,y_predict)\n",
    "accuracy"
   ]
  },
  {
   "cell_type": "code",
   "execution_count": 51,
   "id": "6db118b0",
   "metadata": {
    "execution": {
     "iopub.execute_input": "2023-12-17T20:18:08.942418Z",
     "iopub.status.busy": "2023-12-17T20:18:08.941941Z",
     "iopub.status.idle": "2023-12-17T20:18:08.955356Z",
     "shell.execute_reply": "2023-12-17T20:18:08.954095Z"
    },
    "papermill": {
     "duration": 0.056352,
     "end_time": "2023-12-17T20:18:08.957891",
     "exception": false,
     "start_time": "2023-12-17T20:18:08.901539",
     "status": "completed"
    },
    "tags": []
   },
   "outputs": [
    {
     "data": {
      "text/plain": [
       "array([[380,  35],\n",
       "       [ 39, 255]], dtype=int64)"
      ]
     },
     "execution_count": 51,
     "metadata": {},
     "output_type": "execute_result"
    }
   ],
   "source": [
    "cm = confusion_matrix(y_test,y_predict)\n",
    "cm"
   ]
  },
  {
   "cell_type": "code",
   "execution_count": 52,
   "id": "4648b6a6",
   "metadata": {},
   "outputs": [],
   "source": [
    "knn = KNeighborsClassifier(n_neighbors = 35,metric = 'minkowski')\n",
    "knn.fit(x_train,y_train.values.ravel())\n",
    "y_predict = knn.predict(x_test)"
   ]
  },
  {
   "cell_type": "code",
   "execution_count": 53,
   "id": "a235826d",
   "metadata": {},
   "outputs": [
    {
     "data": {
      "text/plain": [
       "0.9012693935119888"
      ]
     },
     "execution_count": 53,
     "metadata": {},
     "output_type": "execute_result"
    }
   ],
   "source": [
    "accuracy = accuracy_score(y_test,y_predict)\n",
    "accuracy"
   ]
  },
  {
   "cell_type": "code",
   "execution_count": 54,
   "id": "33440c2d",
   "metadata": {},
   "outputs": [
    {
     "data": {
      "text/plain": [
       "array([[385,  30],\n",
       "       [ 40, 254]], dtype=int64)"
      ]
     },
     "execution_count": 54,
     "metadata": {},
     "output_type": "execute_result"
    }
   ],
   "source": [
    "cm = confusion_matrix(y_test,y_predict)\n",
    "cm"
   ]
  },
  {
   "cell_type": "markdown",
   "id": "1e73d2e9",
   "metadata": {
    "papermill": {
     "duration": 0.038944,
     "end_time": "2023-12-17T20:18:09.036108",
     "exception": false,
     "start_time": "2023-12-17T20:18:08.997164",
     "status": "completed"
    },
    "tags": []
   },
   "source": [
    "# GAUSSİANNAİVEBAYES BOYUT İNDİRGEME"
   ]
  },
  {
   "cell_type": "code",
   "execution_count": 55,
   "id": "6001332e",
   "metadata": {
    "execution": {
     "iopub.execute_input": "2023-12-17T20:18:09.117340Z",
     "iopub.status.busy": "2023-12-17T20:18:09.116895Z",
     "iopub.status.idle": "2023-12-17T20:18:09.125067Z",
     "shell.execute_reply": "2023-12-17T20:18:09.124234Z"
    },
    "papermill": {
     "duration": 0.051815,
     "end_time": "2023-12-17T20:18:09.127380",
     "exception": false,
     "start_time": "2023-12-17T20:18:09.075565",
     "status": "completed"
    },
    "tags": []
   },
   "outputs": [],
   "source": [
    "gnb = GaussianNB()\n",
    "gnb.fit(x_train,y_train.values.ravel())\n",
    "y_predict = gnb.predict(x_test)"
   ]
  },
  {
   "cell_type": "code",
   "execution_count": 56,
   "id": "428aa344",
   "metadata": {
    "execution": {
     "iopub.execute_input": "2023-12-17T20:18:09.208026Z",
     "iopub.status.busy": "2023-12-17T20:18:09.207590Z",
     "iopub.status.idle": "2023-12-17T20:18:09.218734Z",
     "shell.execute_reply": "2023-12-17T20:18:09.217750Z"
    },
    "papermill": {
     "duration": 0.054203,
     "end_time": "2023-12-17T20:18:09.220987",
     "exception": false,
     "start_time": "2023-12-17T20:18:09.166784",
     "status": "completed"
    },
    "tags": []
   },
   "outputs": [
    {
     "data": {
      "text/plain": [
       "0.8772919605077574"
      ]
     },
     "execution_count": 56,
     "metadata": {},
     "output_type": "execute_result"
    }
   ],
   "source": [
    "accuracy = accuracy_score(y_test,y_predict)\n",
    "accuracy"
   ]
  },
  {
   "cell_type": "markdown",
   "id": "e5e2a717",
   "metadata": {
    "papermill": {
     "duration": 0.039091,
     "end_time": "2023-12-17T20:18:09.299030",
     "exception": false,
     "start_time": "2023-12-17T20:18:09.259939",
     "status": "completed"
    },
    "tags": []
   },
   "source": [
    "# LOGİSTİC REGRESSİON BOYUT İNDİRGEME"
   ]
  },
  {
   "cell_type": "code",
   "execution_count": 57,
   "id": "bf4ec6e5",
   "metadata": {
    "execution": {
     "iopub.execute_input": "2023-12-17T20:18:09.381065Z",
     "iopub.status.busy": "2023-12-17T20:18:09.380407Z",
     "iopub.status.idle": "2023-12-17T20:18:09.393280Z",
     "shell.execute_reply": "2023-12-17T20:18:09.392010Z"
    },
    "papermill": {
     "duration": 0.058007,
     "end_time": "2023-12-17T20:18:09.397126",
     "exception": false,
     "start_time": "2023-12-17T20:18:09.339119",
     "status": "completed"
    },
    "tags": []
   },
   "outputs": [],
   "source": [
    "logisticreg = LogisticRegression(random_state=0,solver='lbfgs', max_iter=1000)\n",
    "logisticreg.fit(x_train,y_train.values.ravel())\n",
    "y_predict = logisticreg.predict(x_test)"
   ]
  },
  {
   "cell_type": "code",
   "execution_count": 58,
   "id": "2c2536c8",
   "metadata": {
    "execution": {
     "iopub.execute_input": "2023-12-17T20:18:09.538587Z",
     "iopub.status.busy": "2023-12-17T20:18:09.537414Z",
     "iopub.status.idle": "2023-12-17T20:18:09.549489Z",
     "shell.execute_reply": "2023-12-17T20:18:09.548502Z"
    },
    "papermill": {
     "duration": 0.071042,
     "end_time": "2023-12-17T20:18:09.551783",
     "exception": false,
     "start_time": "2023-12-17T20:18:09.480741",
     "status": "completed"
    },
    "tags": []
   },
   "outputs": [
    {
     "data": {
      "text/plain": [
       "0.8885754583921015"
      ]
     },
     "execution_count": 58,
     "metadata": {},
     "output_type": "execute_result"
    }
   ],
   "source": [
    "accuracy = accuracy_score(y_test,y_predict)\n",
    "accuracy"
   ]
  },
  {
   "cell_type": "code",
   "execution_count": 59,
   "id": "b984a154",
   "metadata": {
    "execution": {
     "iopub.execute_input": "2023-12-17T20:18:09.638600Z",
     "iopub.status.busy": "2023-12-17T20:18:09.637899Z",
     "iopub.status.idle": "2023-12-17T20:18:09.648775Z",
     "shell.execute_reply": "2023-12-17T20:18:09.647913Z"
    },
    "papermill": {
     "duration": 0.055037,
     "end_time": "2023-12-17T20:18:09.651117",
     "exception": false,
     "start_time": "2023-12-17T20:18:09.596080",
     "status": "completed"
    },
    "tags": []
   },
   "outputs": [
    {
     "data": {
      "text/plain": [
       "array([[371,  44],\n",
       "       [ 35, 259]], dtype=int64)"
      ]
     },
     "execution_count": 59,
     "metadata": {},
     "output_type": "execute_result"
    }
   ],
   "source": [
    "cm = confusion_matrix(y_test,y_predict)\n",
    "cm"
   ]
  },
  {
   "cell_type": "markdown",
   "id": "8bcd9b50",
   "metadata": {
    "papermill": {
     "duration": 0.040075,
     "end_time": "2023-12-17T20:18:09.732089",
     "exception": false,
     "start_time": "2023-12-17T20:18:09.692014",
     "status": "completed"
    },
    "tags": []
   },
   "source": [
    "# SUPPORT VECTOR MACHİNE BOYUT İNDİRGEME"
   ]
  },
  {
   "cell_type": "code",
   "execution_count": 60,
   "id": "82fa7a5c",
   "metadata": {
    "execution": {
     "iopub.execute_input": "2023-12-17T20:18:09.816233Z",
     "iopub.status.busy": "2023-12-17T20:18:09.815245Z",
     "iopub.status.idle": "2023-12-17T20:18:09.880234Z",
     "shell.execute_reply": "2023-12-17T20:18:09.878909Z"
    },
    "papermill": {
     "duration": 0.109879,
     "end_time": "2023-12-17T20:18:09.883093",
     "exception": false,
     "start_time": "2023-12-17T20:18:09.773214",
     "status": "completed"
    },
    "tags": []
   },
   "outputs": [],
   "source": [
    "supportvector = SVC(kernel=\"rbf\")\n",
    "supportvector.fit(x_train,y_train.values.ravel())\n",
    "y_predict = supportvector.predict(x_test)"
   ]
  },
  {
   "cell_type": "code",
   "execution_count": 61,
   "id": "9fbeec64",
   "metadata": {
    "execution": {
     "iopub.execute_input": "2023-12-17T20:18:09.965709Z",
     "iopub.status.busy": "2023-12-17T20:18:09.965285Z",
     "iopub.status.idle": "2023-12-17T20:18:09.976254Z",
     "shell.execute_reply": "2023-12-17T20:18:09.975337Z"
    },
    "papermill": {
     "duration": 0.056318,
     "end_time": "2023-12-17T20:18:09.978821",
     "exception": false,
     "start_time": "2023-12-17T20:18:09.922503",
     "status": "completed"
    },
    "tags": []
   },
   "outputs": [
    {
     "data": {
      "text/plain": [
       "0.9012693935119888"
      ]
     },
     "execution_count": 61,
     "metadata": {},
     "output_type": "execute_result"
    }
   ],
   "source": [
    "accuracy = accuracy_score(y_test,y_predict)\n",
    "accuracy"
   ]
  },
  {
   "cell_type": "code",
   "execution_count": 62,
   "id": "0a80986b",
   "metadata": {
    "execution": {
     "iopub.execute_input": "2023-12-17T20:18:10.059622Z",
     "iopub.status.busy": "2023-12-17T20:18:10.059190Z",
     "iopub.status.idle": "2023-12-17T20:18:10.072708Z",
     "shell.execute_reply": "2023-12-17T20:18:10.071602Z"
    },
    "papermill": {
     "duration": 0.056863,
     "end_time": "2023-12-17T20:18:10.075134",
     "exception": false,
     "start_time": "2023-12-17T20:18:10.018271",
     "status": "completed"
    },
    "tags": []
   },
   "outputs": [
    {
     "data": {
      "text/plain": [
       "array([[377,  38],\n",
       "       [ 32, 262]], dtype=int64)"
      ]
     },
     "execution_count": 62,
     "metadata": {},
     "output_type": "execute_result"
    }
   ],
   "source": [
    "cm = confusion_matrix(y_test,y_predict)\n",
    "cm"
   ]
  },
  {
   "cell_type": "markdown",
   "id": "d0bceec7",
   "metadata": {
    "papermill": {
     "duration": 0.03908,
     "end_time": "2023-12-17T20:18:10.153980",
     "exception": false,
     "start_time": "2023-12-17T20:18:10.114900",
     "status": "completed"
    },
    "tags": []
   },
   "source": [
    "# RANDOM FOREST BOYUT İNDİRGEME"
   ]
  },
  {
   "cell_type": "code",
   "execution_count": 63,
   "id": "3cab7a2b",
   "metadata": {
    "execution": {
     "iopub.execute_input": "2023-12-17T20:18:10.235473Z",
     "iopub.status.busy": "2023-12-17T20:18:10.234695Z",
     "iopub.status.idle": "2023-12-17T20:18:10.295239Z",
     "shell.execute_reply": "2023-12-17T20:18:10.294199Z"
    },
    "papermill": {
     "duration": 0.104365,
     "end_time": "2023-12-17T20:18:10.297951",
     "exception": false,
     "start_time": "2023-12-17T20:18:10.193586",
     "status": "completed"
    },
    "tags": []
   },
   "outputs": [],
   "source": [
    "randomforest = RandomForestClassifier(criterion = 'entropy',n_estimators = 10,random_state = 42)\n",
    "randomforest.fit(x_train,y_train.values.ravel())\n",
    "y_predict = randomforest.predict(x_test)"
   ]
  },
  {
   "cell_type": "code",
   "execution_count": 64,
   "id": "623875c7",
   "metadata": {
    "execution": {
     "iopub.execute_input": "2023-12-17T20:18:10.381484Z",
     "iopub.status.busy": "2023-12-17T20:18:10.380767Z",
     "iopub.status.idle": "2023-12-17T20:18:10.392325Z",
     "shell.execute_reply": "2023-12-17T20:18:10.391073Z"
    },
    "papermill": {
     "duration": 0.05564,
     "end_time": "2023-12-17T20:18:10.394938",
     "exception": false,
     "start_time": "2023-12-17T20:18:10.339298",
     "status": "completed"
    },
    "tags": []
   },
   "outputs": [
    {
     "data": {
      "text/plain": [
       "0.8688293370944993"
      ]
     },
     "execution_count": 64,
     "metadata": {},
     "output_type": "execute_result"
    }
   ],
   "source": [
    "accuracy = accuracy_score(y_test,y_predict)\n",
    "accuracy"
   ]
  },
  {
   "cell_type": "code",
   "execution_count": 65,
   "id": "246eb97b",
   "metadata": {
    "execution": {
     "iopub.execute_input": "2023-12-17T20:18:10.479993Z",
     "iopub.status.busy": "2023-12-17T20:18:10.479567Z",
     "iopub.status.idle": "2023-12-17T20:18:10.492013Z",
     "shell.execute_reply": "2023-12-17T20:18:10.490911Z"
    },
    "papermill": {
     "duration": 0.058531,
     "end_time": "2023-12-17T20:18:10.494513",
     "exception": false,
     "start_time": "2023-12-17T20:18:10.435982",
     "status": "completed"
    },
    "tags": []
   },
   "outputs": [
    {
     "data": {
      "text/plain": [
       "array([[372,  43],\n",
       "       [ 50, 244]], dtype=int64)"
      ]
     },
     "execution_count": 65,
     "metadata": {},
     "output_type": "execute_result"
    }
   ],
   "source": [
    "cm = confusion_matrix(y_test,y_predict)\n",
    "cm"
   ]
  },
  {
   "cell_type": "markdown",
   "id": "ada767ce",
   "metadata": {
    "papermill": {
     "duration": 0.040988,
     "end_time": "2023-12-17T20:18:10.576632",
     "exception": false,
     "start_time": "2023-12-17T20:18:10.535644",
     "status": "completed"
    },
    "tags": []
   },
   "source": [
    "# DECİSİON TREE BOYUT İNDİRGEME"
   ]
  },
  {
   "cell_type": "code",
   "execution_count": 66,
   "id": "43497758",
   "metadata": {
    "execution": {
     "iopub.execute_input": "2023-12-17T20:18:10.660532Z",
     "iopub.status.busy": "2023-12-17T20:18:10.659733Z",
     "iopub.status.idle": "2023-12-17T20:18:10.679029Z",
     "shell.execute_reply": "2023-12-17T20:18:10.677772Z"
    },
    "papermill": {
     "duration": 0.063961,
     "end_time": "2023-12-17T20:18:10.681702",
     "exception": false,
     "start_time": "2023-12-17T20:18:10.617741",
     "status": "completed"
    },
    "tags": []
   },
   "outputs": [],
   "source": [
    "decisiontree = DecisionTreeClassifier(criterion = 'entropy',random_state=42)\n",
    "decisiontree.fit(x_train,y_train.values.ravel())\n",
    "y_predict = decisiontree.predict(x_test)"
   ]
  },
  {
   "cell_type": "code",
   "execution_count": 67,
   "id": "f14653c2",
   "metadata": {
    "execution": {
     "iopub.execute_input": "2023-12-17T20:18:10.766897Z",
     "iopub.status.busy": "2023-12-17T20:18:10.766172Z",
     "iopub.status.idle": "2023-12-17T20:18:10.777030Z",
     "shell.execute_reply": "2023-12-17T20:18:10.775967Z"
    },
    "papermill": {
     "duration": 0.057047,
     "end_time": "2023-12-17T20:18:10.779755",
     "exception": false,
     "start_time": "2023-12-17T20:18:10.722708",
     "status": "completed"
    },
    "tags": []
   },
   "outputs": [
    {
     "data": {
      "text/plain": [
       "0.8110014104372355"
      ]
     },
     "execution_count": 67,
     "metadata": {},
     "output_type": "execute_result"
    }
   ],
   "source": [
    "accuracy = accuracy_score(y_test,y_predict)\n",
    "accuracy"
   ]
  },
  {
   "cell_type": "code",
   "execution_count": 68,
   "id": "6f6696c8",
   "metadata": {
    "execution": {
     "iopub.execute_input": "2023-12-17T20:18:10.863621Z",
     "iopub.status.busy": "2023-12-17T20:18:10.863201Z",
     "iopub.status.idle": "2023-12-17T20:18:10.876191Z",
     "shell.execute_reply": "2023-12-17T20:18:10.874945Z"
    },
    "papermill": {
     "duration": 0.058233,
     "end_time": "2023-12-17T20:18:10.878788",
     "exception": false,
     "start_time": "2023-12-17T20:18:10.820555",
     "status": "completed"
    },
    "tags": []
   },
   "outputs": [
    {
     "data": {
      "text/plain": [
       "array([[344,  71],\n",
       "       [ 63, 231]], dtype=int64)"
      ]
     },
     "execution_count": 68,
     "metadata": {},
     "output_type": "execute_result"
    }
   ],
   "source": [
    "cm = confusion_matrix(y_test,y_predict)\n",
    "cm"
   ]
  }
 ],
 "metadata": {
  "kaggle": {
   "accelerator": "none",
   "dataSources": [
    {
     "datasetId": 2049755,
     "sourceId": 3400389,
     "sourceType": "datasetVersion"
    }
   ],
   "dockerImageVersionId": 30626,
   "isGpuEnabled": false,
   "isInternetEnabled": true,
   "language": "python",
   "sourceType": "notebook"
  },
  "kernelspec": {
   "display_name": "Python 3 (ipykernel)",
   "language": "python",
   "name": "python3"
  },
  "language_info": {
   "codemirror_mode": {
    "name": "ipython",
    "version": 3
   },
   "file_extension": ".py",
   "mimetype": "text/x-python",
   "name": "python",
   "nbconvert_exporter": "python",
   "pygments_lexer": "ipython3",
   "version": "3.9.13"
  },
  "papermill": {
   "default_parameters": {},
   "duration": 18.901068,
   "end_time": "2023-12-17T20:18:11.643721",
   "environment_variables": {},
   "exception": null,
   "input_path": "__notebook__.ipynb",
   "output_path": "__notebook__.ipynb",
   "parameters": {},
   "start_time": "2023-12-17T20:17:52.742653",
   "version": "2.4.0"
  }
 },
 "nbformat": 4,
 "nbformat_minor": 5
}
